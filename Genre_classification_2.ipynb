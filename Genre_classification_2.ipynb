{
  "nbformat": 4,
  "nbformat_minor": 0,
  "metadata": {
    "colab": {
      "provenance": [],
      "authorship_tag": "ABX9TyMaJ0aFGQ7TiqKXx7JzVLqt",
      "include_colab_link": true
    },
    "kernelspec": {
      "name": "python3",
      "display_name": "Python 3"
    },
    "language_info": {
      "name": "python"
    }
  },
  "cells": [
    {
      "cell_type": "markdown",
      "metadata": {
        "id": "view-in-github",
        "colab_type": "text"
      },
      "source": [
        "<a href=\"https://colab.research.google.com/github/MeanJun/MusicGenre/blob/main/Genre_classification_2.ipynb\" target=\"_parent\"><img src=\"https://colab.research.google.com/assets/colab-badge.svg\" alt=\"Open In Colab\"/></a>"
      ]
    },
    {
      "cell_type": "code",
      "execution_count": 1,
      "metadata": {
        "colab": {
          "base_uri": "https://localhost:8080/"
        },
        "id": "HzUUAiWeJRjr",
        "outputId": "6eb7f050-caaa-4e8e-f8c5-b1c345934d20"
      },
      "outputs": [
        {
          "output_type": "stream",
          "name": "stdout",
          "text": [
            "Mounted at /content/drive\n",
            "                                      Title            0           200  \\\n",
            "0                       10-abbey_rhodes.mp3      1043621  6.174077e+07   \n",
            "1          10-at_least_you've_been_told.mp3      2126883  1.391849e+08   \n",
            "2    10-brilliant_day_(eine_kleine_mix).mp3      3638673  7.667548e+06   \n",
            "3           10-carefully_watch_the_news.mp3      2498355  2.452500e+08   \n",
            "4             10-echoes_of_the_big_bang.mp3  12633950144  2.344230e+07   \n",
            "..                                      ...          ...           ...   \n",
            "721              9-the_miller_(cittern).mp3        86584  3.665295e+05   \n",
            "722                             9-tidur.mp3    769938087  1.017859e+06   \n",
            "723                              9-tied.mp3     86919062  3.430673e+08   \n",
            "724                           9-village.mp3     11548993  1.281289e+08   \n",
            "725                        9-watergrave.mp3     54030186  3.200165e+07   \n",
            "\n",
            "              400           600           800          1000          1200  \\\n",
            "0    2.047628e+08  3.878327e+08  4.376217e+07  4.884440e+06  1.731180e+07   \n",
            "1    8.998469e+07  1.171315e+08  7.954890e+07  3.387833e+07  3.675010e+07   \n",
            "2    1.335264e+07  1.898063e+07  2.204197e+07  5.892001e+06  9.928671e+05   \n",
            "3    6.596359e+07  9.187554e+07  5.290059e+07  2.163944e+07  5.459262e+07   \n",
            "4    7.651874e+07  9.061877e+06  8.827554e+07  2.283532e+06  4.892226e+07   \n",
            "..            ...           ...           ...           ...           ...   \n",
            "721  1.369037e+07  3.144619e+07  1.870274e+07  2.356730e+06  2.028713e+06   \n",
            "722  9.353992e+06  1.380481e+07  8.092018e+07  1.494883e+07  2.848125e+07   \n",
            "723  1.515665e+08  1.484745e+08  6.399268e+07  2.860090e+07  4.232596e+07   \n",
            "724  6.030640e+07  1.911551e+07  6.972920e+06  1.180302e+07  1.839644e+07   \n",
            "725  1.300682e+07  5.617078e+07  1.385458e+07  4.735444e+06  2.543534e+07   \n",
            "\n",
            "             1400          1600  ...         18200         18400  \\\n",
            "0    6.923562e+06  1.728419e+06  ...   2411.610402   1754.836694   \n",
            "1    4.422236e+07  1.228403e+07  ...  19561.752830  49134.077460   \n",
            "2    2.514030e+06  2.312663e+07  ...   1754.348879   2380.075771   \n",
            "3    2.057038e+07  1.404666e+07  ...   7984.793342   9126.964638   \n",
            "4    9.276679e+06  5.144914e+07  ...  18513.552650  34590.849930   \n",
            "..            ...           ...  ...           ...           ...   \n",
            "721  3.537294e+06  8.651003e+06  ...    283.928906    548.728504   \n",
            "722  2.347014e+06  2.262380e+07  ...    341.207335    399.610729   \n",
            "723  6.995141e+06  4.573241e+07  ...  13794.083820   7399.559499   \n",
            "724  2.450797e+06  9.496889e+06  ...   1869.683255   1208.424440   \n",
            "725  1.430662e+07  1.609113e+07  ...   3837.936689   4177.612698   \n",
            "\n",
            "            18600         18800         19000         19200         19400  \\\n",
            "0     1913.843566   2566.356447   1166.833088    753.321428   2477.249148   \n",
            "1    23466.887240   6684.936444  83976.038140   5681.113413  16540.174520   \n",
            "2     2799.921865   2397.215117   3060.009491   2120.585649   2372.546729   \n",
            "3     4856.855111   7473.337512   9129.491911   6973.661419   8691.579700   \n",
            "4    26508.658900  71477.055680  13465.560970  91316.783600  35046.101910   \n",
            "..            ...           ...           ...           ...           ...   \n",
            "721    800.541018    507.645049    682.111747    484.255361    576.954133   \n",
            "722    893.044883    353.560577   1147.754123   1305.255075    925.147778   \n",
            "723  11459.391990   7525.632055  10353.106410   9651.288133   7398.833120   \n",
            "724   1351.201590    584.805851   1441.999327   1022.987652    514.777775   \n",
            "725   4272.217260   2878.137107   3295.886433   4123.242746   3161.454355   \n",
            "\n",
            "            19600         19800       Genre  \n",
            "0     1230.352088    788.631319  jazz_blues  \n",
            "1    26777.469810  39033.317830    rock_pop  \n",
            "2     2653.544784   1731.706378  electronic  \n",
            "3     8577.869889   8380.539834    rock_pop  \n",
            "4    31169.952770  40243.379180  metal_punk  \n",
            "..            ...           ...         ...  \n",
            "721    504.383435    331.504235   classical  \n",
            "722     81.140008    400.980067       world  \n",
            "723  11956.698730  15839.580970    rock_pop  \n",
            "724    637.927032   1623.243852       world  \n",
            "725   2619.910974   2956.386863  metal_punk  \n",
            "\n",
            "[726 rows x 102 columns]\n"
          ]
        }
      ],
      "source": [
        "import matplotlib.pyplot as plt\n",
        "import numpy as np\n",
        "from sklearn import preprocessing\n",
        "from sklearn import neural_network\n",
        "from sklearn.naive_bayes import GaussianNB\n",
        "from sklearn.linear_model import LogisticRegressionCV\n",
        "from sklearn.svm import SVC\n",
        "from sklearn.svm import LinearSVC\n",
        "from sklearn.model_selection import train_test_split\n",
        "from sklearn.preprocessing import StandardScaler\n",
        "from sklearn.model_selection import GridSearchCV\n",
        "from sklearn.pipeline import Pipeline\n",
        "import pandas as pd\n",
        "from sklearn.metrics import classification_report\n",
        "from sklearn.metrics import ConfusionMatrixDisplay\n",
        "\n",
        "from google.colab import drive\n",
        "drive.mount('/content/drive')\n",
        "\n",
        "import os\n",
        "os.chdir('/content/drive/My Drive/Colab Notebooks')\n",
        "\n",
        "df = pd.read_csv(\"ML_Project_Frequency_Distributions.csv\")\n",
        "print(df)\n"
      ]
    },
    {
      "cell_type": "code",
      "source": [
        "#display(df['200'])\n",
        "#display(df.iloc[1])\n",
        "\n",
        "y = df['Genre']\n",
        "\n",
        "Xi = []\n",
        "for column_name in df.columns:\n",
        "  if '0' in column_name:\n",
        "    Xi.append(column_name)\n",
        "\n",
        "X = df[Xi]\n",
        "display(X)"
      ],
      "metadata": {
        "colab": {
          "base_uri": "https://localhost:8080/",
          "height": 444
        },
        "id": "a8XoucVzfe3j",
        "outputId": "3caaffa9-cf15-4e64-971d-089757d0142d"
      },
      "execution_count": 77,
      "outputs": [
        {
          "output_type": "display_data",
          "data": {
            "text/plain": [
              "               0           200           400           600           800  \\\n",
              "0        1043621  6.174077e+07  2.047628e+08  3.878327e+08  4.376217e+07   \n",
              "1        2126883  1.391849e+08  8.998469e+07  1.171315e+08  7.954890e+07   \n",
              "2        3638673  7.667548e+06  1.335264e+07  1.898063e+07  2.204197e+07   \n",
              "3        2498355  2.452500e+08  6.596359e+07  9.187554e+07  5.290059e+07   \n",
              "4    12633950144  2.344230e+07  7.651874e+07  9.061877e+06  8.827554e+07   \n",
              "..           ...           ...           ...           ...           ...   \n",
              "721        86584  3.665295e+05  1.369037e+07  3.144619e+07  1.870274e+07   \n",
              "722    769938087  1.017859e+06  9.353992e+06  1.380481e+07  8.092018e+07   \n",
              "723     86919062  3.430673e+08  1.515665e+08  1.484745e+08  6.399268e+07   \n",
              "724     11548993  1.281289e+08  6.030640e+07  1.911551e+07  6.972920e+06   \n",
              "725     54030186  3.200165e+07  1.300682e+07  5.617078e+07  1.385458e+07   \n",
              "\n",
              "             1000          1200          1400          1600          1800  \\\n",
              "0    4.884440e+06  1.731180e+07  6.923562e+06  1.728419e+06  1.097927e+07   \n",
              "1    3.387833e+07  3.675010e+07  4.422236e+07  1.228403e+07  9.543494e+06   \n",
              "2    5.892001e+06  9.928671e+05  2.514030e+06  2.312663e+07  2.726887e+06   \n",
              "3    2.163944e+07  5.459262e+07  2.057038e+07  1.404666e+07  6.839765e+06   \n",
              "4    2.283532e+06  4.892226e+07  9.276679e+06  5.144914e+07  2.932875e+06   \n",
              "..            ...           ...           ...           ...           ...   \n",
              "721  2.356730e+06  2.028713e+06  3.537294e+06  8.651003e+06  2.611717e+06   \n",
              "722  1.494883e+07  2.848125e+07  2.347014e+06  2.262380e+07  3.611236e+06   \n",
              "723  2.860090e+07  4.232596e+07  6.995141e+06  4.573241e+07  6.576561e+07   \n",
              "724  1.180302e+07  1.839644e+07  2.450797e+06  9.496889e+06  3.243097e+06   \n",
              "725  4.735444e+06  2.543534e+07  1.430662e+07  1.609113e+07  2.311711e+06   \n",
              "\n",
              "     ...         18000         18200         18400         18600  \\\n",
              "0    ...   2384.000186   2411.610402   1754.836694   1913.843566   \n",
              "1    ...  24912.923230  19561.752830  49134.077460  23466.887240   \n",
              "2    ...   1808.905693   1754.348879   2380.075771   2799.921865   \n",
              "3    ...   8720.719579   7984.793342   9126.964638   4856.855111   \n",
              "4    ...  73223.639630  18513.552650  34590.849930  26508.658900   \n",
              "..   ...           ...           ...           ...           ...   \n",
              "721  ...    639.276869    283.928906    548.728504    800.541018   \n",
              "722  ...    229.104270    341.207335    399.610729    893.044883   \n",
              "723  ...   7954.553852  13794.083820   7399.559499  11459.391990   \n",
              "724  ...    694.298070   1869.683255   1208.424440   1351.201590   \n",
              "725  ...   4633.015762   3837.936689   4177.612698   4272.217260   \n",
              "\n",
              "            18800         19000         19200         19400         19600  \\\n",
              "0     2566.356447   1166.833088    753.321428   2477.249148   1230.352088   \n",
              "1     6684.936444  83976.038140   5681.113413  16540.174520  26777.469810   \n",
              "2     2397.215117   3060.009491   2120.585649   2372.546729   2653.544784   \n",
              "3     7473.337512   9129.491911   6973.661419   8691.579700   8577.869889   \n",
              "4    71477.055680  13465.560970  91316.783600  35046.101910  31169.952770   \n",
              "..            ...           ...           ...           ...           ...   \n",
              "721    507.645049    682.111747    484.255361    576.954133    504.383435   \n",
              "722    353.560577   1147.754123   1305.255075    925.147778     81.140008   \n",
              "723   7525.632055  10353.106410   9651.288133   7398.833120  11956.698730   \n",
              "724    584.805851   1441.999327   1022.987652    514.777775    637.927032   \n",
              "725   2878.137107   3295.886433   4123.242746   3161.454355   2619.910974   \n",
              "\n",
              "            19800  \n",
              "0      788.631319  \n",
              "1    39033.317830  \n",
              "2     1731.706378  \n",
              "3     8380.539834  \n",
              "4    40243.379180  \n",
              "..            ...  \n",
              "721    331.504235  \n",
              "722    400.980067  \n",
              "723  15839.580970  \n",
              "724   1623.243852  \n",
              "725   2956.386863  \n",
              "\n",
              "[726 rows x 100 columns]"
            ],
            "text/html": [
              "\n",
              "  <div id=\"df-da92e12b-0a9d-4be2-a9a7-fba4bd6fa017\" class=\"colab-df-container\">\n",
              "    <div>\n",
              "<style scoped>\n",
              "    .dataframe tbody tr th:only-of-type {\n",
              "        vertical-align: middle;\n",
              "    }\n",
              "\n",
              "    .dataframe tbody tr th {\n",
              "        vertical-align: top;\n",
              "    }\n",
              "\n",
              "    .dataframe thead th {\n",
              "        text-align: right;\n",
              "    }\n",
              "</style>\n",
              "<table border=\"1\" class=\"dataframe\">\n",
              "  <thead>\n",
              "    <tr style=\"text-align: right;\">\n",
              "      <th></th>\n",
              "      <th>0</th>\n",
              "      <th>200</th>\n",
              "      <th>400</th>\n",
              "      <th>600</th>\n",
              "      <th>800</th>\n",
              "      <th>1000</th>\n",
              "      <th>1200</th>\n",
              "      <th>1400</th>\n",
              "      <th>1600</th>\n",
              "      <th>1800</th>\n",
              "      <th>...</th>\n",
              "      <th>18000</th>\n",
              "      <th>18200</th>\n",
              "      <th>18400</th>\n",
              "      <th>18600</th>\n",
              "      <th>18800</th>\n",
              "      <th>19000</th>\n",
              "      <th>19200</th>\n",
              "      <th>19400</th>\n",
              "      <th>19600</th>\n",
              "      <th>19800</th>\n",
              "    </tr>\n",
              "  </thead>\n",
              "  <tbody>\n",
              "    <tr>\n",
              "      <th>0</th>\n",
              "      <td>1043621</td>\n",
              "      <td>6.174077e+07</td>\n",
              "      <td>2.047628e+08</td>\n",
              "      <td>3.878327e+08</td>\n",
              "      <td>4.376217e+07</td>\n",
              "      <td>4.884440e+06</td>\n",
              "      <td>1.731180e+07</td>\n",
              "      <td>6.923562e+06</td>\n",
              "      <td>1.728419e+06</td>\n",
              "      <td>1.097927e+07</td>\n",
              "      <td>...</td>\n",
              "      <td>2384.000186</td>\n",
              "      <td>2411.610402</td>\n",
              "      <td>1754.836694</td>\n",
              "      <td>1913.843566</td>\n",
              "      <td>2566.356447</td>\n",
              "      <td>1166.833088</td>\n",
              "      <td>753.321428</td>\n",
              "      <td>2477.249148</td>\n",
              "      <td>1230.352088</td>\n",
              "      <td>788.631319</td>\n",
              "    </tr>\n",
              "    <tr>\n",
              "      <th>1</th>\n",
              "      <td>2126883</td>\n",
              "      <td>1.391849e+08</td>\n",
              "      <td>8.998469e+07</td>\n",
              "      <td>1.171315e+08</td>\n",
              "      <td>7.954890e+07</td>\n",
              "      <td>3.387833e+07</td>\n",
              "      <td>3.675010e+07</td>\n",
              "      <td>4.422236e+07</td>\n",
              "      <td>1.228403e+07</td>\n",
              "      <td>9.543494e+06</td>\n",
              "      <td>...</td>\n",
              "      <td>24912.923230</td>\n",
              "      <td>19561.752830</td>\n",
              "      <td>49134.077460</td>\n",
              "      <td>23466.887240</td>\n",
              "      <td>6684.936444</td>\n",
              "      <td>83976.038140</td>\n",
              "      <td>5681.113413</td>\n",
              "      <td>16540.174520</td>\n",
              "      <td>26777.469810</td>\n",
              "      <td>39033.317830</td>\n",
              "    </tr>\n",
              "    <tr>\n",
              "      <th>2</th>\n",
              "      <td>3638673</td>\n",
              "      <td>7.667548e+06</td>\n",
              "      <td>1.335264e+07</td>\n",
              "      <td>1.898063e+07</td>\n",
              "      <td>2.204197e+07</td>\n",
              "      <td>5.892001e+06</td>\n",
              "      <td>9.928671e+05</td>\n",
              "      <td>2.514030e+06</td>\n",
              "      <td>2.312663e+07</td>\n",
              "      <td>2.726887e+06</td>\n",
              "      <td>...</td>\n",
              "      <td>1808.905693</td>\n",
              "      <td>1754.348879</td>\n",
              "      <td>2380.075771</td>\n",
              "      <td>2799.921865</td>\n",
              "      <td>2397.215117</td>\n",
              "      <td>3060.009491</td>\n",
              "      <td>2120.585649</td>\n",
              "      <td>2372.546729</td>\n",
              "      <td>2653.544784</td>\n",
              "      <td>1731.706378</td>\n",
              "    </tr>\n",
              "    <tr>\n",
              "      <th>3</th>\n",
              "      <td>2498355</td>\n",
              "      <td>2.452500e+08</td>\n",
              "      <td>6.596359e+07</td>\n",
              "      <td>9.187554e+07</td>\n",
              "      <td>5.290059e+07</td>\n",
              "      <td>2.163944e+07</td>\n",
              "      <td>5.459262e+07</td>\n",
              "      <td>2.057038e+07</td>\n",
              "      <td>1.404666e+07</td>\n",
              "      <td>6.839765e+06</td>\n",
              "      <td>...</td>\n",
              "      <td>8720.719579</td>\n",
              "      <td>7984.793342</td>\n",
              "      <td>9126.964638</td>\n",
              "      <td>4856.855111</td>\n",
              "      <td>7473.337512</td>\n",
              "      <td>9129.491911</td>\n",
              "      <td>6973.661419</td>\n",
              "      <td>8691.579700</td>\n",
              "      <td>8577.869889</td>\n",
              "      <td>8380.539834</td>\n",
              "    </tr>\n",
              "    <tr>\n",
              "      <th>4</th>\n",
              "      <td>12633950144</td>\n",
              "      <td>2.344230e+07</td>\n",
              "      <td>7.651874e+07</td>\n",
              "      <td>9.061877e+06</td>\n",
              "      <td>8.827554e+07</td>\n",
              "      <td>2.283532e+06</td>\n",
              "      <td>4.892226e+07</td>\n",
              "      <td>9.276679e+06</td>\n",
              "      <td>5.144914e+07</td>\n",
              "      <td>2.932875e+06</td>\n",
              "      <td>...</td>\n",
              "      <td>73223.639630</td>\n",
              "      <td>18513.552650</td>\n",
              "      <td>34590.849930</td>\n",
              "      <td>26508.658900</td>\n",
              "      <td>71477.055680</td>\n",
              "      <td>13465.560970</td>\n",
              "      <td>91316.783600</td>\n",
              "      <td>35046.101910</td>\n",
              "      <td>31169.952770</td>\n",
              "      <td>40243.379180</td>\n",
              "    </tr>\n",
              "    <tr>\n",
              "      <th>...</th>\n",
              "      <td>...</td>\n",
              "      <td>...</td>\n",
              "      <td>...</td>\n",
              "      <td>...</td>\n",
              "      <td>...</td>\n",
              "      <td>...</td>\n",
              "      <td>...</td>\n",
              "      <td>...</td>\n",
              "      <td>...</td>\n",
              "      <td>...</td>\n",
              "      <td>...</td>\n",
              "      <td>...</td>\n",
              "      <td>...</td>\n",
              "      <td>...</td>\n",
              "      <td>...</td>\n",
              "      <td>...</td>\n",
              "      <td>...</td>\n",
              "      <td>...</td>\n",
              "      <td>...</td>\n",
              "      <td>...</td>\n",
              "      <td>...</td>\n",
              "    </tr>\n",
              "    <tr>\n",
              "      <th>721</th>\n",
              "      <td>86584</td>\n",
              "      <td>3.665295e+05</td>\n",
              "      <td>1.369037e+07</td>\n",
              "      <td>3.144619e+07</td>\n",
              "      <td>1.870274e+07</td>\n",
              "      <td>2.356730e+06</td>\n",
              "      <td>2.028713e+06</td>\n",
              "      <td>3.537294e+06</td>\n",
              "      <td>8.651003e+06</td>\n",
              "      <td>2.611717e+06</td>\n",
              "      <td>...</td>\n",
              "      <td>639.276869</td>\n",
              "      <td>283.928906</td>\n",
              "      <td>548.728504</td>\n",
              "      <td>800.541018</td>\n",
              "      <td>507.645049</td>\n",
              "      <td>682.111747</td>\n",
              "      <td>484.255361</td>\n",
              "      <td>576.954133</td>\n",
              "      <td>504.383435</td>\n",
              "      <td>331.504235</td>\n",
              "    </tr>\n",
              "    <tr>\n",
              "      <th>722</th>\n",
              "      <td>769938087</td>\n",
              "      <td>1.017859e+06</td>\n",
              "      <td>9.353992e+06</td>\n",
              "      <td>1.380481e+07</td>\n",
              "      <td>8.092018e+07</td>\n",
              "      <td>1.494883e+07</td>\n",
              "      <td>2.848125e+07</td>\n",
              "      <td>2.347014e+06</td>\n",
              "      <td>2.262380e+07</td>\n",
              "      <td>3.611236e+06</td>\n",
              "      <td>...</td>\n",
              "      <td>229.104270</td>\n",
              "      <td>341.207335</td>\n",
              "      <td>399.610729</td>\n",
              "      <td>893.044883</td>\n",
              "      <td>353.560577</td>\n",
              "      <td>1147.754123</td>\n",
              "      <td>1305.255075</td>\n",
              "      <td>925.147778</td>\n",
              "      <td>81.140008</td>\n",
              "      <td>400.980067</td>\n",
              "    </tr>\n",
              "    <tr>\n",
              "      <th>723</th>\n",
              "      <td>86919062</td>\n",
              "      <td>3.430673e+08</td>\n",
              "      <td>1.515665e+08</td>\n",
              "      <td>1.484745e+08</td>\n",
              "      <td>6.399268e+07</td>\n",
              "      <td>2.860090e+07</td>\n",
              "      <td>4.232596e+07</td>\n",
              "      <td>6.995141e+06</td>\n",
              "      <td>4.573241e+07</td>\n",
              "      <td>6.576561e+07</td>\n",
              "      <td>...</td>\n",
              "      <td>7954.553852</td>\n",
              "      <td>13794.083820</td>\n",
              "      <td>7399.559499</td>\n",
              "      <td>11459.391990</td>\n",
              "      <td>7525.632055</td>\n",
              "      <td>10353.106410</td>\n",
              "      <td>9651.288133</td>\n",
              "      <td>7398.833120</td>\n",
              "      <td>11956.698730</td>\n",
              "      <td>15839.580970</td>\n",
              "    </tr>\n",
              "    <tr>\n",
              "      <th>724</th>\n",
              "      <td>11548993</td>\n",
              "      <td>1.281289e+08</td>\n",
              "      <td>6.030640e+07</td>\n",
              "      <td>1.911551e+07</td>\n",
              "      <td>6.972920e+06</td>\n",
              "      <td>1.180302e+07</td>\n",
              "      <td>1.839644e+07</td>\n",
              "      <td>2.450797e+06</td>\n",
              "      <td>9.496889e+06</td>\n",
              "      <td>3.243097e+06</td>\n",
              "      <td>...</td>\n",
              "      <td>694.298070</td>\n",
              "      <td>1869.683255</td>\n",
              "      <td>1208.424440</td>\n",
              "      <td>1351.201590</td>\n",
              "      <td>584.805851</td>\n",
              "      <td>1441.999327</td>\n",
              "      <td>1022.987652</td>\n",
              "      <td>514.777775</td>\n",
              "      <td>637.927032</td>\n",
              "      <td>1623.243852</td>\n",
              "    </tr>\n",
              "    <tr>\n",
              "      <th>725</th>\n",
              "      <td>54030186</td>\n",
              "      <td>3.200165e+07</td>\n",
              "      <td>1.300682e+07</td>\n",
              "      <td>5.617078e+07</td>\n",
              "      <td>1.385458e+07</td>\n",
              "      <td>4.735444e+06</td>\n",
              "      <td>2.543534e+07</td>\n",
              "      <td>1.430662e+07</td>\n",
              "      <td>1.609113e+07</td>\n",
              "      <td>2.311711e+06</td>\n",
              "      <td>...</td>\n",
              "      <td>4633.015762</td>\n",
              "      <td>3837.936689</td>\n",
              "      <td>4177.612698</td>\n",
              "      <td>4272.217260</td>\n",
              "      <td>2878.137107</td>\n",
              "      <td>3295.886433</td>\n",
              "      <td>4123.242746</td>\n",
              "      <td>3161.454355</td>\n",
              "      <td>2619.910974</td>\n",
              "      <td>2956.386863</td>\n",
              "    </tr>\n",
              "  </tbody>\n",
              "</table>\n",
              "<p>726 rows × 100 columns</p>\n",
              "</div>\n",
              "    <div class=\"colab-df-buttons\">\n",
              "\n",
              "  <div class=\"colab-df-container\">\n",
              "    <button class=\"colab-df-convert\" onclick=\"convertToInteractive('df-da92e12b-0a9d-4be2-a9a7-fba4bd6fa017')\"\n",
              "            title=\"Convert this dataframe to an interactive table.\"\n",
              "            style=\"display:none;\">\n",
              "\n",
              "  <svg xmlns=\"http://www.w3.org/2000/svg\" height=\"24px\" viewBox=\"0 -960 960 960\">\n",
              "    <path d=\"M120-120v-720h720v720H120Zm60-500h600v-160H180v160Zm220 220h160v-160H400v160Zm0 220h160v-160H400v160ZM180-400h160v-160H180v160Zm440 0h160v-160H620v160ZM180-180h160v-160H180v160Zm440 0h160v-160H620v160Z\"/>\n",
              "  </svg>\n",
              "    </button>\n",
              "\n",
              "  <style>\n",
              "    .colab-df-container {\n",
              "      display:flex;\n",
              "      gap: 12px;\n",
              "    }\n",
              "\n",
              "    .colab-df-convert {\n",
              "      background-color: #E8F0FE;\n",
              "      border: none;\n",
              "      border-radius: 50%;\n",
              "      cursor: pointer;\n",
              "      display: none;\n",
              "      fill: #1967D2;\n",
              "      height: 32px;\n",
              "      padding: 0 0 0 0;\n",
              "      width: 32px;\n",
              "    }\n",
              "\n",
              "    .colab-df-convert:hover {\n",
              "      background-color: #E2EBFA;\n",
              "      box-shadow: 0px 1px 2px rgba(60, 64, 67, 0.3), 0px 1px 3px 1px rgba(60, 64, 67, 0.15);\n",
              "      fill: #174EA6;\n",
              "    }\n",
              "\n",
              "    .colab-df-buttons div {\n",
              "      margin-bottom: 4px;\n",
              "    }\n",
              "\n",
              "    [theme=dark] .colab-df-convert {\n",
              "      background-color: #3B4455;\n",
              "      fill: #D2E3FC;\n",
              "    }\n",
              "\n",
              "    [theme=dark] .colab-df-convert:hover {\n",
              "      background-color: #434B5C;\n",
              "      box-shadow: 0px 1px 3px 1px rgba(0, 0, 0, 0.15);\n",
              "      filter: drop-shadow(0px 1px 2px rgba(0, 0, 0, 0.3));\n",
              "      fill: #FFFFFF;\n",
              "    }\n",
              "  </style>\n",
              "\n",
              "    <script>\n",
              "      const buttonEl =\n",
              "        document.querySelector('#df-da92e12b-0a9d-4be2-a9a7-fba4bd6fa017 button.colab-df-convert');\n",
              "      buttonEl.style.display =\n",
              "        google.colab.kernel.accessAllowed ? 'block' : 'none';\n",
              "\n",
              "      async function convertToInteractive(key) {\n",
              "        const element = document.querySelector('#df-da92e12b-0a9d-4be2-a9a7-fba4bd6fa017');\n",
              "        const dataTable =\n",
              "          await google.colab.kernel.invokeFunction('convertToInteractive',\n",
              "                                                    [key], {});\n",
              "        if (!dataTable) return;\n",
              "\n",
              "        const docLinkHtml = 'Like what you see? Visit the ' +\n",
              "          '<a target=\"_blank\" href=https://colab.research.google.com/notebooks/data_table.ipynb>data table notebook</a>'\n",
              "          + ' to learn more about interactive tables.';\n",
              "        element.innerHTML = '';\n",
              "        dataTable['output_type'] = 'display_data';\n",
              "        await google.colab.output.renderOutput(dataTable, element);\n",
              "        const docLink = document.createElement('div');\n",
              "        docLink.innerHTML = docLinkHtml;\n",
              "        element.appendChild(docLink);\n",
              "      }\n",
              "    </script>\n",
              "  </div>\n",
              "\n",
              "\n",
              "<div id=\"df-22f49885-65a0-4831-822f-fe96acca568b\">\n",
              "  <button class=\"colab-df-quickchart\" onclick=\"quickchart('df-22f49885-65a0-4831-822f-fe96acca568b')\"\n",
              "            title=\"Suggest charts\"\n",
              "            style=\"display:none;\">\n",
              "\n",
              "<svg xmlns=\"http://www.w3.org/2000/svg\" height=\"24px\"viewBox=\"0 0 24 24\"\n",
              "     width=\"24px\">\n",
              "    <g>\n",
              "        <path d=\"M19 3H5c-1.1 0-2 .9-2 2v14c0 1.1.9 2 2 2h14c1.1 0 2-.9 2-2V5c0-1.1-.9-2-2-2zM9 17H7v-7h2v7zm4 0h-2V7h2v10zm4 0h-2v-4h2v4z\"/>\n",
              "    </g>\n",
              "</svg>\n",
              "  </button>\n",
              "\n",
              "<style>\n",
              "  .colab-df-quickchart {\n",
              "      --bg-color: #E8F0FE;\n",
              "      --fill-color: #1967D2;\n",
              "      --hover-bg-color: #E2EBFA;\n",
              "      --hover-fill-color: #174EA6;\n",
              "      --disabled-fill-color: #AAA;\n",
              "      --disabled-bg-color: #DDD;\n",
              "  }\n",
              "\n",
              "  [theme=dark] .colab-df-quickchart {\n",
              "      --bg-color: #3B4455;\n",
              "      --fill-color: #D2E3FC;\n",
              "      --hover-bg-color: #434B5C;\n",
              "      --hover-fill-color: #FFFFFF;\n",
              "      --disabled-bg-color: #3B4455;\n",
              "      --disabled-fill-color: #666;\n",
              "  }\n",
              "\n",
              "  .colab-df-quickchart {\n",
              "    background-color: var(--bg-color);\n",
              "    border: none;\n",
              "    border-radius: 50%;\n",
              "    cursor: pointer;\n",
              "    display: none;\n",
              "    fill: var(--fill-color);\n",
              "    height: 32px;\n",
              "    padding: 0;\n",
              "    width: 32px;\n",
              "  }\n",
              "\n",
              "  .colab-df-quickchart:hover {\n",
              "    background-color: var(--hover-bg-color);\n",
              "    box-shadow: 0 1px 2px rgba(60, 64, 67, 0.3), 0 1px 3px 1px rgba(60, 64, 67, 0.15);\n",
              "    fill: var(--button-hover-fill-color);\n",
              "  }\n",
              "\n",
              "  .colab-df-quickchart-complete:disabled,\n",
              "  .colab-df-quickchart-complete:disabled:hover {\n",
              "    background-color: var(--disabled-bg-color);\n",
              "    fill: var(--disabled-fill-color);\n",
              "    box-shadow: none;\n",
              "  }\n",
              "\n",
              "  .colab-df-spinner {\n",
              "    border: 2px solid var(--fill-color);\n",
              "    border-color: transparent;\n",
              "    border-bottom-color: var(--fill-color);\n",
              "    animation:\n",
              "      spin 1s steps(1) infinite;\n",
              "  }\n",
              "\n",
              "  @keyframes spin {\n",
              "    0% {\n",
              "      border-color: transparent;\n",
              "      border-bottom-color: var(--fill-color);\n",
              "      border-left-color: var(--fill-color);\n",
              "    }\n",
              "    20% {\n",
              "      border-color: transparent;\n",
              "      border-left-color: var(--fill-color);\n",
              "      border-top-color: var(--fill-color);\n",
              "    }\n",
              "    30% {\n",
              "      border-color: transparent;\n",
              "      border-left-color: var(--fill-color);\n",
              "      border-top-color: var(--fill-color);\n",
              "      border-right-color: var(--fill-color);\n",
              "    }\n",
              "    40% {\n",
              "      border-color: transparent;\n",
              "      border-right-color: var(--fill-color);\n",
              "      border-top-color: var(--fill-color);\n",
              "    }\n",
              "    60% {\n",
              "      border-color: transparent;\n",
              "      border-right-color: var(--fill-color);\n",
              "    }\n",
              "    80% {\n",
              "      border-color: transparent;\n",
              "      border-right-color: var(--fill-color);\n",
              "      border-bottom-color: var(--fill-color);\n",
              "    }\n",
              "    90% {\n",
              "      border-color: transparent;\n",
              "      border-bottom-color: var(--fill-color);\n",
              "    }\n",
              "  }\n",
              "</style>\n",
              "\n",
              "  <script>\n",
              "    async function quickchart(key) {\n",
              "      const quickchartButtonEl =\n",
              "        document.querySelector('#' + key + ' button');\n",
              "      quickchartButtonEl.disabled = true;  // To prevent multiple clicks.\n",
              "      quickchartButtonEl.classList.add('colab-df-spinner');\n",
              "      try {\n",
              "        const charts = await google.colab.kernel.invokeFunction(\n",
              "            'suggestCharts', [key], {});\n",
              "      } catch (error) {\n",
              "        console.error('Error during call to suggestCharts:', error);\n",
              "      }\n",
              "      quickchartButtonEl.classList.remove('colab-df-spinner');\n",
              "      quickchartButtonEl.classList.add('colab-df-quickchart-complete');\n",
              "    }\n",
              "    (() => {\n",
              "      let quickchartButtonEl =\n",
              "        document.querySelector('#df-22f49885-65a0-4831-822f-fe96acca568b button');\n",
              "      quickchartButtonEl.style.display =\n",
              "        google.colab.kernel.accessAllowed ? 'block' : 'none';\n",
              "    })();\n",
              "  </script>\n",
              "</div>\n",
              "    </div>\n",
              "  </div>\n"
            ],
            "application/vnd.google.colaboratory.intrinsic+json": {
              "type": "dataframe",
              "variable_name": "X"
            }
          },
          "metadata": {}
        }
      ]
    },
    {
      "cell_type": "code",
      "source": [
        "X.shape"
      ],
      "metadata": {
        "colab": {
          "base_uri": "https://localhost:8080/"
        },
        "id": "M1mzYuMhAlng",
        "outputId": "165dc17a-6a4f-4876-a366-32d3ab8c4040"
      },
      "execution_count": 78,
      "outputs": [
        {
          "output_type": "execute_result",
          "data": {
            "text/plain": [
              "(726, 100)"
            ]
          },
          "metadata": {},
          "execution_count": 78
        }
      ]
    },
    {
      "cell_type": "code",
      "source": [
        "Xarray = X.values\n",
        "Xarray.shape"
      ],
      "metadata": {
        "colab": {
          "base_uri": "https://localhost:8080/"
        },
        "id": "tIlvupKwAwlM",
        "outputId": "6ae1b485-fbdc-4d2c-c8ea-7095b3a8a6c4"
      },
      "execution_count": 79,
      "outputs": [
        {
          "output_type": "execute_result",
          "data": {
            "text/plain": [
              "(726, 100)"
            ]
          },
          "metadata": {},
          "execution_count": 79
        }
      ]
    },
    {
      "cell_type": "code",
      "source": [
        "Xarray[0].max()"
      ],
      "metadata": {
        "colab": {
          "base_uri": "https://localhost:8080/"
        },
        "id": "Jjed1ArzBCS9",
        "outputId": "f1e01d3b-a303-4100-bfc9-0aedf49cdc02"
      },
      "execution_count": 80,
      "outputs": [
        {
          "output_type": "execute_result",
          "data": {
            "text/plain": [
              "387832722.2"
            ]
          },
          "metadata": {},
          "execution_count": 80
        }
      ]
    },
    {
      "cell_type": "code",
      "source": [
        "song_maxs = Xarray.max(axis=1).reshape(-1,1)"
      ],
      "metadata": {
        "id": "VCIKKlFVCSB1"
      },
      "execution_count": 81,
      "outputs": []
    },
    {
      "cell_type": "code",
      "source": [
        "Xnorm = Xarray / song_maxs"
      ],
      "metadata": {
        "id": "il4ANlOKDLJ9"
      },
      "execution_count": 82,
      "outputs": []
    },
    {
      "cell_type": "code",
      "source": [
        "np.allclose(Xnorm[1,:], Xarray[1,:]/Xarray[1].max())"
      ],
      "metadata": {
        "colab": {
          "base_uri": "https://localhost:8080/"
        },
        "id": "8PMmdZP1D6sB",
        "outputId": "2a6035d5-641b-47f0-e4a0-d0d189279043"
      },
      "execution_count": 83,
      "outputs": [
        {
          "output_type": "execute_result",
          "data": {
            "text/plain": [
              "True"
            ]
          },
          "metadata": {},
          "execution_count": 83
        }
      ]
    },
    {
      "cell_type": "code",
      "source": [
        "Xnorm.shape"
      ],
      "metadata": {
        "colab": {
          "base_uri": "https://localhost:8080/"
        },
        "id": "5Gce5Z_jDk6n",
        "outputId": "131c99cc-ab4c-4086-efa7-0f0d93c5783a"
      },
      "execution_count": 84,
      "outputs": [
        {
          "output_type": "execute_result",
          "data": {
            "text/plain": [
              "(726, 100)"
            ]
          },
          "metadata": {},
          "execution_count": 84
        }
      ]
    },
    {
      "cell_type": "code",
      "source": [
        "y"
      ],
      "metadata": {
        "colab": {
          "base_uri": "https://localhost:8080/"
        },
        "id": "YzXHSlX-Ev9F",
        "outputId": "5ee8e578-2233-4914-8753-2ea48b02e74d"
      },
      "execution_count": 85,
      "outputs": [
        {
          "output_type": "execute_result",
          "data": {
            "text/plain": [
              "0      jazz_blues\n",
              "1        rock_pop\n",
              "2      electronic\n",
              "3        rock_pop\n",
              "4      metal_punk\n",
              "          ...    \n",
              "721     classical\n",
              "722         world\n",
              "723      rock_pop\n",
              "724         world\n",
              "725    metal_punk\n",
              "Name: Genre, Length: 726, dtype: object"
            ]
          },
          "metadata": {},
          "execution_count": 85
        }
      ]
    },
    {
      "cell_type": "code",
      "source": [
        "codes, uniques = y.factorize()"
      ],
      "metadata": {
        "id": "0medaqb7FGNv"
      },
      "execution_count": 86,
      "outputs": []
    },
    {
      "cell_type": "code",
      "source": [
        "ycodes = codes\n",
        "uniques"
      ],
      "metadata": {
        "colab": {
          "base_uri": "https://localhost:8080/"
        },
        "id": "pbhoYkTaGAB6",
        "outputId": "681d1632-0ee0-4405-9140-537bbb988152"
      },
      "execution_count": 87,
      "outputs": [
        {
          "output_type": "execute_result",
          "data": {
            "text/plain": [
              "Index(['jazz_blues', 'rock_pop', 'electronic', 'metal_punk', 'classical',\n",
              "       'world'],\n",
              "      dtype='object')"
            ]
          },
          "metadata": {},
          "execution_count": 87
        }
      ]
    },
    {
      "cell_type": "code",
      "source": [
        "X_train, X_test, y_train, y_test = train_test_split(Xnorm, ycodes, stratify=ycodes, random_state=0) # stratify ensures an equal ratio of each target"
      ],
      "metadata": {
        "id": "sT7k_XsnkGr4"
      },
      "execution_count": 88,
      "outputs": []
    },
    {
      "cell_type": "code",
      "source": [
        "clf = neural_network.MLPClassifier(hidden_layer_sizes=(2,2,2),max_iter=10000, random_state=42)\n",
        "clf.fit(X_train,y_train)\n",
        "print(clf.score(X_train,y_train))\n",
        "display(clf.score(X_test, y_test))"
      ],
      "metadata": {
        "colab": {
          "base_uri": "https://localhost:8080/",
          "height": 52
        },
        "id": "JqR7NFWxlwYT",
        "outputId": "f2ffe7df-0168-4767-9631-09926994d75d"
      },
      "execution_count": 89,
      "outputs": [
        {
          "output_type": "stream",
          "name": "stdout",
          "text": [
            "0.4485294117647059\n"
          ]
        },
        {
          "output_type": "display_data",
          "data": {
            "text/plain": [
              "0.43956043956043955"
            ]
          },
          "metadata": {}
        }
      ]
    },
    {
      "cell_type": "code",
      "source": [
        "y_pred = clf.predict(X_test)\n",
        "ConfusionMatrixDisplay.from_predictions(y_test, y_pred, cmap='Blues')\n",
        "plt.show()"
      ],
      "metadata": {
        "colab": {
          "base_uri": "https://localhost:8080/",
          "height": 449
        },
        "id": "PGKkeaHkrbRX",
        "outputId": "112ec5f8-3751-48ac-f8a0-d19f7e3d4e98"
      },
      "execution_count": 90,
      "outputs": [
        {
          "output_type": "display_data",
          "data": {
            "text/plain": [
              "<Figure size 640x480 with 2 Axes>"
            ],
            "image/png": "[encoded data removed]"
          },
          "metadata": {}
        }
      ]
    },
    {
      "cell_type": "code",
      "source": [
        "priors_list = np.full(6, 1/6)\n",
        "print(priors_list)\n",
        "\n",
        "clf2 = GaussianNB(priors=priors_list)\n",
        "clf2.fit(X_train,y_train)\n",
        "display(clf2.score(X_train,y_train))\n",
        "display(clf2.score(X_test,y_test))"
      ],
      "metadata": {
        "colab": {
          "base_uri": "https://localhost:8080/",
          "height": 69
        },
        "id": "S9ZaOueTafp4",
        "outputId": "779fcc1a-4fda-430f-fb25-bcf2f31dcb58"
      },
      "execution_count": 91,
      "outputs": [
        {
          "output_type": "stream",
          "name": "stdout",
          "text": [
            "[0.16666667 0.16666667 0.16666667 0.16666667 0.16666667 0.16666667]\n"
          ]
        },
        {
          "output_type": "display_data",
          "data": {
            "text/plain": [
              "0.4007352941176471"
            ]
          },
          "metadata": {}
        },
        {
          "output_type": "display_data",
          "data": {
            "text/plain": [
              "0.35714285714285715"
            ]
          },
          "metadata": {}
        }
      ]
    },
    {
      "cell_type": "code",
      "source": [
        "y_pred2 = clf2.predict(X_test)\n",
        "ConfusionMatrixDisplay.from_predictions(y_test, y_pred2, cmap='Blues')\n",
        "plt.show()"
      ],
      "metadata": {
        "colab": {
          "base_uri": "https://localhost:8080/",
          "height": 449
        },
        "id": "NiNzQ0T2eYDl",
        "outputId": "3d520f20-5c6a-4ba1-ae4f-335cd2e970de"
      },
      "execution_count": 92,
      "outputs": [
        {
          "output_type": "display_data",
          "data": {
            "text/plain": [
              "<Figure size 640x480 with 2 Axes>"
            ],
            "image/png": "[encoded data removed]"
          },
          "metadata": {}
        }
      ]
    },
    {
      "cell_type": "code",
      "source": [
        "clf3 = LogisticRegressionCV(max_iter=10000)\n",
        "clf3.fit(X_train,y_train)\n",
        "display(clf3.score(X_train,y_train))\n",
        "display(clf3.score(X_test,y_test))"
      ],
      "metadata": {
        "colab": {
          "base_uri": "https://localhost:8080/",
          "height": 52
        },
        "id": "0Xn6CgbAcHjT",
        "outputId": "92f714ad-2d89-4557-cfc4-cf830c39c8f5"
      },
      "execution_count": 93,
      "outputs": [
        {
          "output_type": "display_data",
          "data": {
            "text/plain": [
              "0.45955882352941174"
            ]
          },
          "metadata": {}
        },
        {
          "output_type": "display_data",
          "data": {
            "text/plain": [
              "0.4340659340659341"
            ]
          },
          "metadata": {}
        }
      ]
    },
    {
      "cell_type": "code",
      "source": [
        "y_pred3 = clf3.predict(X_test)\n",
        "ConfusionMatrixDisplay.from_predictions(y_test, y_pred3, cmap='Blues')\n",
        "plt.show()"
      ],
      "metadata": {
        "colab": {
          "base_uri": "https://localhost:8080/",
          "height": 449
        },
        "id": "JdWsqtlJeKPE",
        "outputId": "d1f6cb5c-febd-4e56-a6cf-9ba94f61233e"
      },
      "execution_count": 94,
      "outputs": [
        {
          "output_type": "display_data",
          "data": {
            "text/plain": [
              "<Figure size 640x480 with 2 Axes>"
            ],
            "image/png": "[encoded data removed]"
          },
          "metadata": {}
        }
      ]
    },
    {
      "cell_type": "code",
      "source": [
        "clf4 = LogisticRegressionCV(max_iter=10000,penalty='l1',solver='liblinear')\n",
        "clf4.fit(X_train,y_train)\n",
        "display(clf4.score(X_train,y_train))\n",
        "display(clf4.score(X_test,y_test))"
      ],
      "metadata": {
        "colab": {
          "base_uri": "https://localhost:8080/",
          "height": 52
        },
        "id": "atcGavrqdo-g",
        "outputId": "929f3dd8-b540-4a21-b659-97e9786e5e13"
      },
      "execution_count": 95,
      "outputs": [
        {
          "output_type": "display_data",
          "data": {
            "text/plain": [
              "0.3382352941176471"
            ]
          },
          "metadata": {}
        },
        {
          "output_type": "display_data",
          "data": {
            "text/plain": [
              "0.24175824175824176"
            ]
          },
          "metadata": {}
        }
      ]
    },
    {
      "cell_type": "code",
      "source": [
        "clf5 = SVC()\n",
        "clf5.fit(X_train,y_train)\n",
        "display(clf5.score(X_train,y_train))\n",
        "display(clf5.score(X_test,y_test))"
      ],
      "metadata": {
        "colab": {
          "base_uri": "https://localhost:8080/",
          "height": 52
        },
        "id": "3JEKKsJOfegW",
        "outputId": "177f2b34-3e04-40fd-e83b-255a23320598"
      },
      "execution_count": 96,
      "outputs": [
        {
          "output_type": "display_data",
          "data": {
            "text/plain": [
              "0.4834558823529412"
            ]
          },
          "metadata": {}
        },
        {
          "output_type": "display_data",
          "data": {
            "text/plain": [
              "0.46703296703296704"
            ]
          },
          "metadata": {}
        }
      ]
    },
    {
      "cell_type": "code",
      "source": [
        "y_pred5 = clf5.predict(X_test)\n",
        "ConfusionMatrixDisplay.from_predictions(y_test, y_pred5, cmap='Blues')\n",
        "plt.show()"
      ],
      "metadata": {
        "colab": {
          "base_uri": "https://localhost:8080/",
          "height": 449
        },
        "id": "l1PNpr3xhJgI",
        "outputId": "9833eaca-b4c7-4a95-8a2e-19c7538fa19d"
      },
      "execution_count": 97,
      "outputs": [
        {
          "output_type": "display_data",
          "data": {
            "text/plain": [
              "<Figure size 640x480 with 2 Axes>"
            ],
            "image/png": "[encoded data removed]"
          },
          "metadata": {}
        }
      ]
    },
    {
      "cell_type": "code",
      "source": [
        "clf6 = LinearSVC()\n",
        "clf6.fit(X_train,y_train)\n",
        "display(clf6.score(X_train,y_train))\n",
        "display(clf6.score(X_test,y_test))"
      ],
      "metadata": {
        "colab": {
          "base_uri": "https://localhost:8080/",
          "height": 52
        },
        "id": "MBkSBHtLhN7K",
        "outputId": "88f98e53-5579-4b1d-b712-4cfdec666b0c"
      },
      "execution_count": 98,
      "outputs": [
        {
          "output_type": "display_data",
          "data": {
            "text/plain": [
              "0.5220588235294118"
            ]
          },
          "metadata": {}
        },
        {
          "output_type": "display_data",
          "data": {
            "text/plain": [
              "0.4340659340659341"
            ]
          },
          "metadata": {}
        }
      ]
    },
    {
      "cell_type": "code",
      "source": [
        "y_pred6 = clf6.predict(X_test)\n",
        "ConfusionMatrixDisplay.from_predictions(y_test, y_pred6, cmap='Blues')\n",
        "plt.show()"
      ],
      "metadata": {
        "colab": {
          "base_uri": "https://localhost:8080/",
          "height": 449
        },
        "id": "8YzclOA8ihdk",
        "outputId": "f5e73116-fb48-4456-d810-99d54275847c"
      },
      "execution_count": 99,
      "outputs": [
        {
          "output_type": "display_data",
          "data": {
            "text/plain": [
              "<Figure size 640x480 with 2 Axes>"
            ],
            "image/png": "[encoded data removed]"
          },
          "metadata": {}
        }
      ]
    },
    {
      "cell_type": "markdown",
      "source": [
        "Now I'll change the data into 4 sets of 100 songs each (eliminates 2 genres)"
      ],
      "metadata": {
        "id": "gCMeW2KyYpVh"
      }
    },
    {
      "cell_type": "code",
      "source": [
        "# Generate a random array of numbers from 0 to 725 (randomly chooses our songs)\n",
        "numbers = np.arange(0, 725)\n",
        "np.random.shuffle(numbers)\n",
        "print(numbers)"
      ],
      "metadata": {
        "colab": {
          "base_uri": "https://localhost:8080/"
        },
        "id": "MsZgehtmY7Cu",
        "outputId": "8eb9b616-717b-4c5a-a52b-0677e2324689"
      },
      "execution_count": 100,
      "outputs": [
        {
          "output_type": "stream",
          "name": "stdout",
          "text": [
            "[709 113 557 336 649 359 222 271 452 520 346 476 119 405 229 717  36 496\n",
            " 655   8 653 137 312 300 443 451 466 172  86 435 643 568 372 637 422 323\n",
            " 591  89 445 335 370 195 563 619  20 471 552 432 708 200 127 499 690 674\n",
            " 495 268 720 618 117 187 533 669 589 671 635 251 337 280 606 281 692 317\n",
            " 349  29 183 388  61 140 420 358 602  37  71 616 234 580 531 259 693 408\n",
            " 625  57 382  19 430 189 701 716 411 108 326 329 413 157 551 415 225 134\n",
            " 350 407 116 514 314  50 703 213 439 663 658  81 218  38 102 722  48 135\n",
            " 686 146 263  28  52 455 598 175 173 201 494 186 576 473  87 467  62 383\n",
            "  44 318 700 193 611 481 122 483   7 695 341 714 593 390 642 299 474  72\n",
            " 310 646 290 297 509 627 328 156 396 418 374 621 585 228 202 159 675 688\n",
            " 469 431 706 607 550 457 560  34 553   1 373 296 442  74 132 245 433 357\n",
            " 461 247 569 610 479 284 667 378 397 180 711 168 522 288 651 260 111  82\n",
            " 577 301 414 123 549 437 419 112 683 114 707 647 529 164 215 544 497 129\n",
            " 562 377 448 401 325 130 515 592 224 670  84  12 612 480  73 599 454 118\n",
            " 101  31 573 274 249 488  16 492 449 243 485  11  83 375 400 715 153  54\n",
            "   2  25 124 489 244 595 226 447  40 668 151 252 363 680 548 441 147 541\n",
            " 154 491 211 302 389 453 534 392 309 423 364 162 458 223  10 697 410 682\n",
            " 399  78 304 678 650 724  46 354 463  94 501 540 486 508 179  24 321 308\n",
            " 217  56  99 477   0 275  93 166 391  27 575 579 539 404  14  67 170  66\n",
            " 694 538  88 380 171 191 470  17 367 403  92 340 352 648 537 712 526 505\n",
            " 705 659 181  59   9 446 190 342 640 632  39 438 613 100 257 221 136 417\n",
            " 197 106 571 282 475 604 718 677 518 559 428 582  51  21 220 503 209 723\n",
            " 313 204 167  43 536   3  32 386 277 255 570 184 207 464 182 227 581 644\n",
            " 178 285 704 590 567 384 333 362  60 165 645 330 676 188 512 368 107 468\n",
            " 369 698  30 398 555 163   5 236 696 289 588 306 141 687 319  55 440   4\n",
            " 459 493 361 620 609 160 210  15 517 266 482 334 264  18 424 199 305  49\n",
            " 393 327 294 231 444 661 656 527 532 298 507 558  35 351 293 131  53 513\n",
            " 208 241 152 248 713 490 626 174 596 699 429 348 511 307 572 586 456 617\n",
            " 240 254 478 628 402  91 139 371 331  75 144 104 238 622 338 528 295 460\n",
            " 198  96 662 660 196 109 554 425 587 601 185 565 212 232  85 484 523 320\n",
            " 270 115 242 267 556 316 639  22 105 638 546 272 710 719 673 138 472 366\n",
            " 498 657 684 237 427 143  42  68 311 161 256  79 125 608 194 279 216 205\n",
            " 691 679  26 436 365 303 623 412 262 291 434 192  97 276 315 103 278 594\n",
            " 253 235 654  41 545 603 641 487 561 287  98 629 633  90 615 564 246 344\n",
            " 600 524 634 465 345 416 664 347  70 543 286 353 530 292 376 233 355 149\n",
            "   6 381 339 525 148  63  58 624 584 169 283 450 504  77 672 214  76 158\n",
            " 203 547 150 145 356 261 322 332 666 406 230 110 133 219 631  23 502 702\n",
            " 155  69 652 121 521 462  95 665 176 126  47 269 394 681 324 597 142 630\n",
            " 506  45 583 379 206 566 250 343 510  64 239  65  80 721 519 120 614 685\n",
            " 387 542 578 500  33 385 265  13 273 426 605 574 360 395 421 516 128 409\n",
            " 535 689 636 258 177]\n"
          ]
        }
      ]
    },
    {
      "cell_type": "code",
      "source": [
        "X_new = np.zeros((400,100))\n",
        "\n",
        "ycodes_new_prior = np.zeros((400,1))\n",
        "\n",
        "ycodes_new = ycodes_new_prior.flatten()\n",
        "display(X_new.shape)\n",
        "display(Xnorm.shape)\n",
        "\n",
        "count1 = 0\n",
        "count2 = 0\n",
        "count3 = 0\n",
        "count4 = 0\n",
        "count_overall = 0\n",
        "\n",
        "#World\n",
        "for i in range(725):\n",
        "    if ycodes[numbers[i]] == 5 and count1 < 100: #will get 100 World songs\n",
        "      X_new[count_overall] = Xnorm[numbers[i]]\n",
        "      ycodes_new[count_overall] = ycodes[numbers[i]]\n",
        "      count1 += 1\n",
        "      count_overall += 1\n",
        "#classical\n",
        "for j in range(725):\n",
        "    if ycodes[numbers[j]] == 4 and count2 < 100:\n",
        "        X_new[count_overall] = Xnorm[numbers[j]]\n",
        "        ycodes_new[count_overall] = ycodes[numbers[j]]\n",
        "        count2 += 1\n",
        "        count_overall += 1\n",
        "#electronic\n",
        "for k in range(725):\n",
        "    if ycodes[numbers[k]] == 2 and count3 < 100:\n",
        "        X_new[count_overall] = Xnorm[numbers[k]]\n",
        "        ycodes_new[count_overall] = ycodes[numbers[k]]\n",
        "        count3 += 1\n",
        "        count_overall += 1\n",
        "#rock_pop\n",
        "for l in range(725):\n",
        "    if ycodes[numbers[l]] == 1 and count4 < 100:\n",
        "        X_new[count_overall] = Xnorm[numbers[l]]\n",
        "        ycodes_new[count_overall] = ycodes[numbers[l]]\n",
        "        count4 += 1\n",
        "        count_overall += 1\n"
      ],
      "metadata": {
        "colab": {
          "base_uri": "https://localhost:8080/",
          "height": 52
        },
        "id": "xeTPL-8MaQAm",
        "outputId": "9f74b5ca-21f9-4411-9520-2c1c5d36867c"
      },
      "execution_count": 101,
      "outputs": [
        {
          "output_type": "display_data",
          "data": {
            "text/plain": [
              "(400, 100)"
            ]
          },
          "metadata": {}
        },
        {
          "output_type": "display_data",
          "data": {
            "text/plain": [
              "(726, 100)"
            ]
          },
          "metadata": {}
        }
      ]
    },
    {
      "cell_type": "code",
      "source": [
        "#New test train split will have 75 train and 25 test songs for each of 4 genres\n",
        "X_train, X_test, y_train, y_test = train_test_split(X_new, ycodes_new, stratify=ycodes_new, random_state=0)"
      ],
      "metadata": {
        "id": "DOp29ctvwmgl"
      },
      "execution_count": 102,
      "outputs": []
    },
    {
      "cell_type": "code",
      "source": [
        "clf = neural_network.MLPClassifier(hidden_layer_sizes=(2,2,2),max_iter=10000, random_state=42)\n",
        "clf.fit(X_train,y_train)\n",
        "print(clf.score(X_train,y_train))\n",
        "display(clf.score(X_test, y_test))"
      ],
      "metadata": {
        "colab": {
          "base_uri": "https://localhost:8080/",
          "height": 52
        },
        "id": "ueryAN8JwwhG",
        "outputId": "63ae0d55-c40d-40f5-a913-db3cb82e97fe"
      },
      "execution_count": 103,
      "outputs": [
        {
          "output_type": "stream",
          "name": "stdout",
          "text": [
            "0.5366666666666666\n"
          ]
        },
        {
          "output_type": "display_data",
          "data": {
            "text/plain": [
              "0.27"
            ]
          },
          "metadata": {}
        }
      ]
    },
    {
      "cell_type": "code",
      "source": [
        "y_pred = clf.predict(X_test)\n",
        "ConfusionMatrixDisplay.from_predictions(y_test, y_pred, cmap='Blues')\n",
        "plt.show()"
      ],
      "metadata": {
        "colab": {
          "base_uri": "https://localhost:8080/",
          "height": 455
        },
        "id": "bkhlmznVx7LJ",
        "outputId": "7aaef91d-d888-4b21-97f9-2ae146d2d008"
      },
      "execution_count": 104,
      "outputs": [
        {
          "output_type": "display_data",
          "data": {
            "text/plain": [
              "<Figure size 640x480 with 2 Axes>"
            ],
            "image/png": "[encoded data removed]"
          },
          "metadata": {}
        }
      ]
    },
    {
      "cell_type": "code",
      "source": [
        "clf2 = GaussianNB()\n",
        "clf2.fit(X_train,y_train)\n",
        "display(clf2.score(X_train,y_train))\n",
        "display(clf2.score(X_test,y_test))"
      ],
      "metadata": {
        "colab": {
          "base_uri": "https://localhost:8080/",
          "height": 52
        },
        "id": "MTjQ-mwwytA9",
        "outputId": "4a9e0893-7fe0-4f5a-c686-2eaadc0e6bfd"
      },
      "execution_count": 105,
      "outputs": [
        {
          "output_type": "display_data",
          "data": {
            "text/plain": [
              "0.37"
            ]
          },
          "metadata": {}
        },
        {
          "output_type": "display_data",
          "data": {
            "text/plain": [
              "0.35"
            ]
          },
          "metadata": {}
        }
      ]
    },
    {
      "cell_type": "code",
      "source": [
        "clf3 = LogisticRegressionCV(max_iter=10000)\n",
        "clf3.fit(X_train,y_train)\n",
        "display(clf3.score(X_train,y_train))\n",
        "display(clf3.score(X_test,y_test))"
      ],
      "metadata": {
        "colab": {
          "base_uri": "https://localhost:8080/",
          "height": 52
        },
        "id": "0YXqoPloyw99",
        "outputId": "3aead5e9-3bad-4da9-bbfb-a0e293b5a470"
      },
      "execution_count": 106,
      "outputs": [
        {
          "output_type": "display_data",
          "data": {
            "text/plain": [
              "0.38333333333333336"
            ]
          },
          "metadata": {}
        },
        {
          "output_type": "display_data",
          "data": {
            "text/plain": [
              "0.39"
            ]
          },
          "metadata": {}
        }
      ]
    },
    {
      "cell_type": "code",
      "source": [
        "clf4 = LogisticRegressionCV(max_iter=10000,penalty='l1',solver='liblinear')\n",
        "clf4.fit(X_train,y_train)\n",
        "display(clf4.score(X_train,y_train))\n",
        "display(clf4.score(X_test,y_test))"
      ],
      "metadata": {
        "colab": {
          "base_uri": "https://localhost:8080/",
          "height": 52
        },
        "id": "H5u3lU7WzEed",
        "outputId": "62b27d2c-f814-434a-cc08-dde07add2ffa"
      },
      "execution_count": 107,
      "outputs": [
        {
          "output_type": "display_data",
          "data": {
            "text/plain": [
              "0.2633333333333333"
            ]
          },
          "metadata": {}
        },
        {
          "output_type": "display_data",
          "data": {
            "text/plain": [
              "0.27"
            ]
          },
          "metadata": {}
        }
      ]
    },
    {
      "cell_type": "code",
      "source": [
        "clf5 = SVC()\n",
        "clf5.fit(X_train,y_train)\n",
        "display(clf5.score(X_train,y_train))\n",
        "display(clf5.score(X_test,y_test))"
      ],
      "metadata": {
        "colab": {
          "base_uri": "https://localhost:8080/",
          "height": 52
        },
        "id": "bJNQBttAzMt4",
        "outputId": "c1eda627-a498-410b-8ce2-1ad3b98e551c"
      },
      "execution_count": 108,
      "outputs": [
        {
          "output_type": "display_data",
          "data": {
            "text/plain": [
              "0.5"
            ]
          },
          "metadata": {}
        },
        {
          "output_type": "display_data",
          "data": {
            "text/plain": [
              "0.4"
            ]
          },
          "metadata": {}
        }
      ]
    },
    {
      "cell_type": "code",
      "source": [
        "clf6 = LinearSVC()\n",
        "clf6.fit(X_train,y_train)\n",
        "display(clf6.score(X_train,y_train))\n",
        "display(clf6.score(X_test,y_test))"
      ],
      "metadata": {
        "colab": {
          "base_uri": "https://localhost:8080/",
          "height": 52
        },
        "id": "UMBYEsA5zRZU",
        "outputId": "5a88d6d9-fb22-4f0f-a95e-23d07cb3b41c"
      },
      "execution_count": 109,
      "outputs": [
        {
          "output_type": "display_data",
          "data": {
            "text/plain": [
              "0.4533333333333333"
            ]
          },
          "metadata": {}
        },
        {
          "output_type": "display_data",
          "data": {
            "text/plain": [
              "0.37"
            ]
          },
          "metadata": {}
        }
      ]
    }
  ]
}