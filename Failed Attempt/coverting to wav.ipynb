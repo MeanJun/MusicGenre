{
  "nbformat": 4,
  "nbformat_minor": 0,
  "metadata": {
    "colab": {
      "provenance": [],
      "include_colab_link": true
    },
    "kernelspec": {
      "name": "python3",
      "display_name": "Python 3"
    },
    "language_info": {
      "name": "python"
    }
  },
  "cells": [
    {
      "cell_type": "markdown",
      "metadata": {
        "id": "view-in-github",
        "colab_type": "text"
      },
      "source": [
        "<a href=\"https://colab.research.google.com/github/MeanJun/MusicGenre/blob/main/Machine_Learning_Project.ipynb\" target=\"_parent\"><img src=\"https://colab.research.google.com/assets/colab-badge.svg\" alt=\"Open In Colab\"/></a>"
      ]
    },
    {
      "cell_type": "code",
      "execution_count": null,
      "metadata": {
        "id": "Awggae2xVqPU"
      },
      "outputs": [],
      "source": [
        "import os\n",
        "import pandas as pd\n",
        "import ast\n",
        "import numpy as np\n",
        "\n",
        "import librosa\n",
        "\n",
        "from sklearn.preprocessing import LabelEncoder, StandardScaler\n",
        "from sklearn.model_selection import train_test_split\n",
        "\n",
        "from collections import defaultdict\n",
        "import pickle"
      ]
    },
    {
      "cell_type": "code",
      "source": [
        "\n",
        "# path to the small directory\n",
        "SMALL_AUDIO_DIR = '../data/fma_small/'\n",
        "\n",
        "# function to get the paths to all the songs in the small dataset\n",
        "def audio_paths(AUDIO_DIR):\n",
        "    AUDIO_PATHS = []\n",
        "    # iterate through all the directories with songs in them\n",
        "    for path in [os.path.join('../data/fma_small/', p)\n",
        "                 for p in os.listdir('../data/fma_small/')\n",
        "                 if not (p.endswith('checksums') or p.endswith('.txt') or p.endswith('.DS_Store'))]:\n",
        "        # add all songs to the list\n",
        "        AUDIO_PATHS = AUDIO_PATHS + [os.path.join(path, track).replace('\\\\', '/') for track in os.listdir(path)]\n",
        "\n",
        "    return AUDIO_PATHS\n",
        "\n",
        "# store all the small paths\n",
        "SMALL_PATHS = audio_paths(SMALL_AUDIO_DIR)\n",
        "\n"
      ],
      "metadata": {
        "id": "GF3Enzs5Z9C1"
      },
      "execution_count": null,
      "outputs": []
    }
  ]
}
