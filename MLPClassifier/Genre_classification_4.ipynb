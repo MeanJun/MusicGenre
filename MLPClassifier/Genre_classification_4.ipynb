{
  "nbformat": 4,
  "nbformat_minor": 0,
  "metadata": {
    "colab": {
      "provenance": [],
      "include_colab_link": true
    },
    "kernelspec": {
      "name": "python3",
      "display_name": "Python 3"
    },
    "language_info": {
      "name": "python"
    }
  },
  "cells": [
    {
      "cell_type": "markdown",
      "metadata": {
        "id": "view-in-github",
        "colab_type": "text"
      },
      "source": [
        "<a href=\"https://colab.research.google.com/github/MeanJun/MusicGenre/blob/main/Genre_classification_4.ipynb\" target=\"_parent\"><img src=\"https://colab.research.google.com/assets/colab-badge.svg\" alt=\"Open In Colab\"/></a>"
      ]
    },
    {
      "cell_type": "code",
      "execution_count": 3,
      "metadata": {
        "colab": {
          "base_uri": "https://localhost:8080/"
        },
        "id": "arsSjc84V0RB",
        "outputId": "e6be7b29-d7b5-4603-d37f-c779f3d0201c"
      },
      "outputs": [
        {
          "output_type": "stream",
          "name": "stdout",
          "text": [
            "Drive already mounted at /content/drive; to attempt to forcibly remount, call drive.mount(\"/content/drive\", force_remount=True).\n",
            "                                                 Title            0  \\\n",
            "0                                  10-abbey_rhodes.mp3      1043621   \n",
            "1                     10-at_least_you've_been_told.mp3      2126883   \n",
            "2               10-brilliant_day_(eine_kleine_mix).mp3      3638673   \n",
            "3                      10-carefully_watch_the_news.mp3      2498355   \n",
            "4                        10-echoes_of_the_big_bang.mp3  12633950144   \n",
            "...                                                ...          ...   \n",
            "1428                somewhere-in-the-clouds-184456.wav       230115   \n",
            "1429                          soul-of-dubai-165180.wav     43787068   \n",
            "1430  tamil-comedy-bgm-for-reels-and-shorts-139304.wav      1920438   \n",
            "1431                  the-girl-from-ireland-177450.wav     74765199   \n",
            "1432                            the-ramadan-188837.wav    559262022   \n",
            "\n",
            "               200           400           600          800          1000  \\\n",
            "0     6.174077e+07  2.047628e+08  3.878327e+08  43762172.30  4.884440e+06   \n",
            "1     1.391849e+08  8.998469e+07  1.171315e+08  79548896.75  3.387833e+07   \n",
            "2     7.667548e+06  1.335264e+07  1.898063e+07  22041971.77  5.892001e+06   \n",
            "3     2.452500e+08  6.596359e+07  9.187554e+07  52900587.70  2.163944e+07   \n",
            "4     2.344230e+07  7.651874e+07  9.061877e+06  88275540.13  2.283532e+06   \n",
            "...            ...           ...           ...          ...           ...   \n",
            "1428  2.658727e+07  2.008053e+08  6.485656e+07  53583334.57  7.993349e+06   \n",
            "1429  1.189417e+08  1.027792e+08  2.297040e+07  56467480.46  5.331166e+06   \n",
            "1430  4.680251e+07  3.979945e+07  2.050838e+07  19509767.05  2.961714e+06   \n",
            "1431  1.961060e+08  1.069926e+08  1.429322e+07  33945857.30  6.774219e+06   \n",
            "1432  9.921577e+07  6.465584e+07  2.951880e+07  38937474.21  1.858046e+08   \n",
            "\n",
            "              1200          1400          1600  ...         18200  \\\n",
            "0     1.731180e+07  6.923562e+06  1.728419e+06  ...   2411.610402   \n",
            "1     3.675010e+07  4.422236e+07  1.228403e+07  ...  19561.752830   \n",
            "2     9.928671e+05  2.514030e+06  2.312663e+07  ...   1754.348879   \n",
            "3     5.459262e+07  2.057038e+07  1.404666e+07  ...   7984.793342   \n",
            "4     4.892226e+07  9.276679e+06  5.144914e+07  ...  18513.552650   \n",
            "...            ...           ...           ...  ...           ...   \n",
            "1428  4.649832e+07  1.456040e+07  3.830695e+07  ...    664.226145   \n",
            "1429  9.156309e+07  1.186552e+07  5.494317e+07  ...   4087.916622   \n",
            "1430  1.239209e+07  3.078131e+06  6.683750e+06  ...  10567.028430   \n",
            "1431  1.097531e+07  2.804238e+06  1.711634e+07  ...    503.120565   \n",
            "1432  7.324734e+07  2.310503e+07  1.055549e+07  ...  30830.445040   \n",
            "\n",
            "             18400         18600         18800         19000         19200  \\\n",
            "0      1754.836694   1913.843566   2566.356447   1166.833088    753.321428   \n",
            "1     49134.077460  23466.887240   6684.936444  83976.038140   5681.113413   \n",
            "2      2380.075771   2799.921865   2397.215117   3060.009491   2120.585649   \n",
            "3      9126.964638   4856.855111   7473.337512   9129.491911   6973.661419   \n",
            "4     34590.849930  26508.658900  71477.055680  13465.560970  91316.783600   \n",
            "...            ...           ...           ...           ...           ...   \n",
            "1428   1012.785569   1227.141176    644.967497    931.464923    481.317277   \n",
            "1429   7565.595333   3996.340023   2339.546788   6890.781898   4063.788977   \n",
            "1430   9018.496753   8845.084532   5592.151900   4841.477950  10063.064870   \n",
            "1431   1006.387829    693.719941    528.009908     66.748512    965.164054   \n",
            "1432   8887.613073  12479.340220  23250.640280  45485.686510   7711.293574   \n",
            "\n",
            "             19400         19600         19800       Genre  \n",
            "0      2477.249148   1230.352088    788.631319  jazz_blues  \n",
            "1     16540.174520  26777.469810  39033.317830    rock_pop  \n",
            "2      2372.546729   2653.544784   1731.706378  electronic  \n",
            "3      8691.579700   8577.869889   8380.539834    rock_pop  \n",
            "4     35046.101910  31169.952770  40243.379180  metal_punk  \n",
            "...            ...           ...           ...         ...  \n",
            "1428    344.487630    813.793171    824.823032       world  \n",
            "1429   7660.720919   2356.332830  10498.729370       world  \n",
            "1430   3558.198442  11935.343720   8452.489487       world  \n",
            "1431    279.279473   1090.087526    822.759217       world  \n",
            "1432  25946.214500  29700.601530  29282.002610       world  \n",
            "\n",
            "[1433 rows x 102 columns]\n"
          ]
        }
      ],
      "source": [
        "import matplotlib.pyplot as plt\n",
        "import numpy as np\n",
        "from sklearn import preprocessing\n",
        "from sklearn import neural_network\n",
        "from sklearn.naive_bayes import GaussianNB\n",
        "from sklearn.linear_model import LogisticRegressionCV\n",
        "from sklearn.svm import SVC\n",
        "from sklearn.svm import LinearSVC\n",
        "from sklearn.model_selection import train_test_split\n",
        "from sklearn.preprocessing import StandardScaler\n",
        "from sklearn.model_selection import GridSearchCV\n",
        "from sklearn.pipeline import Pipeline\n",
        "import pandas as pd\n",
        "from sklearn.metrics import classification_report\n",
        "from sklearn.metrics import ConfusionMatrixDisplay\n",
        "\n",
        "from google.colab import drive\n",
        "drive.mount('/content/drive')\n",
        "\n",
        "import os\n",
        "os.chdir('/content/drive/My Drive/Colab Notebooks')\n",
        "\n",
        "df = pd.read_csv(\"/content/ML_Project_Frequency_Distributions.csv\")\n",
        "print(df)"
      ]
    },
    {
      "cell_type": "code",
      "source": [],
      "metadata": {
        "id": "6Yxa5tNqWDsB"
      },
      "execution_count": 3,
      "outputs": []
    },
    {
      "cell_type": "code",
      "source": [
        "#display(df['200'])\n",
        "#display(df.iloc[1])\n",
        "\n",
        "y = df['Genre']\n",
        "\n",
        "Xi = []\n",
        "for column_name in df.columns:\n",
        "  if '0' in column_name:\n",
        "    Xi.append(column_name)\n",
        "\n",
        "X = df[Xi]\n",
        "display(X)"
      ],
      "metadata": {
        "colab": {
          "base_uri": "https://localhost:8080/",
          "height": 443
        },
        "id": "a8XoucVzfe3j",
        "outputId": "7180cee3-c184-471f-e96a-d3660474abdc"
      },
      "execution_count": 4,
      "outputs": [
        {
          "output_type": "display_data",
          "data": {
            "text/plain": [
              "                0           200           400           600          800  \\\n",
              "0         1043621  6.174077e+07  2.047628e+08  3.878327e+08  43762172.30   \n",
              "1         2126883  1.391849e+08  8.998469e+07  1.171315e+08  79548896.75   \n",
              "2         3638673  7.667548e+06  1.335264e+07  1.898063e+07  22041971.77   \n",
              "3         2498355  2.452500e+08  6.596359e+07  9.187554e+07  52900587.70   \n",
              "4     12633950144  2.344230e+07  7.651874e+07  9.061877e+06  88275540.13   \n",
              "...           ...           ...           ...           ...          ...   \n",
              "1428       230115  2.658727e+07  2.008053e+08  6.485656e+07  53583334.57   \n",
              "1429     43787068  1.189417e+08  1.027792e+08  2.297040e+07  56467480.46   \n",
              "1430      1920438  4.680251e+07  3.979945e+07  2.050838e+07  19509767.05   \n",
              "1431     74765199  1.961060e+08  1.069926e+08  1.429322e+07  33945857.30   \n",
              "1432    559262022  9.921577e+07  6.465584e+07  2.951880e+07  38937474.21   \n",
              "\n",
              "              1000          1200          1400          1600          1800  \\\n",
              "0     4.884440e+06  1.731180e+07  6.923562e+06  1.728419e+06  1.097927e+07   \n",
              "1     3.387833e+07  3.675010e+07  4.422236e+07  1.228403e+07  9.543494e+06   \n",
              "2     5.892001e+06  9.928671e+05  2.514030e+06  2.312663e+07  2.726887e+06   \n",
              "3     2.163944e+07  5.459262e+07  2.057038e+07  1.404666e+07  6.839765e+06   \n",
              "4     2.283532e+06  4.892226e+07  9.276679e+06  5.144914e+07  2.932875e+06   \n",
              "...            ...           ...           ...           ...           ...   \n",
              "1428  7.993349e+06  4.649832e+07  1.456040e+07  3.830695e+07  3.027184e+07   \n",
              "1429  5.331166e+06  9.156309e+07  1.186552e+07  5.494317e+07  8.816054e+06   \n",
              "1430  2.961714e+06  1.239209e+07  3.078131e+06  6.683750e+06  5.243632e+06   \n",
              "1431  6.774219e+06  1.097531e+07  2.804238e+06  1.711634e+07  1.848868e+07   \n",
              "1432  1.858046e+08  7.324734e+07  2.310503e+07  1.055549e+07  2.761467e+07   \n",
              "\n",
              "      ...         18000         18200         18400         18600  \\\n",
              "0     ...   2384.000186   2411.610402   1754.836694   1913.843566   \n",
              "1     ...  24912.923230  19561.752830  49134.077460  23466.887240   \n",
              "2     ...   1808.905693   1754.348879   2380.075771   2799.921865   \n",
              "3     ...   8720.719579   7984.793342   9126.964638   4856.855111   \n",
              "4     ...  73223.639630  18513.552650  34590.849930  26508.658900   \n",
              "...   ...           ...           ...           ...           ...   \n",
              "1428  ...    533.228466    664.226145   1012.785569   1227.141176   \n",
              "1429  ...   5530.530466   4087.916622   7565.595333   3996.340023   \n",
              "1430  ...   1373.543878  10567.028430   9018.496753   8845.084532   \n",
              "1431  ...    171.377712    503.120565   1006.387829    693.719941   \n",
              "1432  ...  71234.185560  30830.445040   8887.613073  12479.340220   \n",
              "\n",
              "             18800         19000         19200         19400         19600  \\\n",
              "0      2566.356447   1166.833088    753.321428   2477.249148   1230.352088   \n",
              "1      6684.936444  83976.038140   5681.113413  16540.174520  26777.469810   \n",
              "2      2397.215117   3060.009491   2120.585649   2372.546729   2653.544784   \n",
              "3      7473.337512   9129.491911   6973.661419   8691.579700   8577.869889   \n",
              "4     71477.055680  13465.560970  91316.783600  35046.101910  31169.952770   \n",
              "...            ...           ...           ...           ...           ...   \n",
              "1428    644.967497    931.464923    481.317277    344.487630    813.793171   \n",
              "1429   2339.546788   6890.781898   4063.788977   7660.720919   2356.332830   \n",
              "1430   5592.151900   4841.477950  10063.064870   3558.198442  11935.343720   \n",
              "1431    528.009908     66.748512    965.164054    279.279473   1090.087526   \n",
              "1432  23250.640280  45485.686510   7711.293574  25946.214500  29700.601530   \n",
              "\n",
              "             19800  \n",
              "0       788.631319  \n",
              "1     39033.317830  \n",
              "2      1731.706378  \n",
              "3      8380.539834  \n",
              "4     40243.379180  \n",
              "...            ...  \n",
              "1428    824.823032  \n",
              "1429  10498.729370  \n",
              "1430   8452.489487  \n",
              "1431    822.759217  \n",
              "1432  29282.002610  \n",
              "\n",
              "[1433 rows x 100 columns]"
            ],
            "text/html": [
              "\n",
              "  <div id=\"df-3b85fefe-c42d-4ce9-b5ef-381413c46512\" class=\"colab-df-container\">\n",
              "    <div>\n",
              "<style scoped>\n",
              "    .dataframe tbody tr th:only-of-type {\n",
              "        vertical-align: middle;\n",
              "    }\n",
              "\n",
              "    .dataframe tbody tr th {\n",
              "        vertical-align: top;\n",
              "    }\n",
              "\n",
              "    .dataframe thead th {\n",
              "        text-align: right;\n",
              "    }\n",
              "</style>\n",
              "<table border=\"1\" class=\"dataframe\">\n",
              "  <thead>\n",
              "    <tr style=\"text-align: right;\">\n",
              "      <th></th>\n",
              "      <th>0</th>\n",
              "      <th>200</th>\n",
              "      <th>400</th>\n",
              "      <th>600</th>\n",
              "      <th>800</th>\n",
              "      <th>1000</th>\n",
              "      <th>1200</th>\n",
              "      <th>1400</th>\n",
              "      <th>1600</th>\n",
              "      <th>1800</th>\n",
              "      <th>...</th>\n",
              "      <th>18000</th>\n",
              "      <th>18200</th>\n",
              "      <th>18400</th>\n",
              "      <th>18600</th>\n",
              "      <th>18800</th>\n",
              "      <th>19000</th>\n",
              "      <th>19200</th>\n",
              "      <th>19400</th>\n",
              "      <th>19600</th>\n",
              "      <th>19800</th>\n",
              "    </tr>\n",
              "  </thead>\n",
              "  <tbody>\n",
              "    <tr>\n",
              "      <th>0</th>\n",
              "      <td>1043621</td>\n",
              "      <td>6.174077e+07</td>\n",
              "      <td>2.047628e+08</td>\n",
              "      <td>3.878327e+08</td>\n",
              "      <td>43762172.30</td>\n",
              "      <td>4.884440e+06</td>\n",
              "      <td>1.731180e+07</td>\n",
              "      <td>6.923562e+06</td>\n",
              "      <td>1.728419e+06</td>\n",
              "      <td>1.097927e+07</td>\n",
              "      <td>...</td>\n",
              "      <td>2384.000186</td>\n",
              "      <td>2411.610402</td>\n",
              "      <td>1754.836694</td>\n",
              "      <td>1913.843566</td>\n",
              "      <td>2566.356447</td>\n",
              "      <td>1166.833088</td>\n",
              "      <td>753.321428</td>\n",
              "      <td>2477.249148</td>\n",
              "      <td>1230.352088</td>\n",
              "      <td>788.631319</td>\n",
              "    </tr>\n",
              "    <tr>\n",
              "      <th>1</th>\n",
              "      <td>2126883</td>\n",
              "      <td>1.391849e+08</td>\n",
              "      <td>8.998469e+07</td>\n",
              "      <td>1.171315e+08</td>\n",
              "      <td>79548896.75</td>\n",
              "      <td>3.387833e+07</td>\n",
              "      <td>3.675010e+07</td>\n",
              "      <td>4.422236e+07</td>\n",
              "      <td>1.228403e+07</td>\n",
              "      <td>9.543494e+06</td>\n",
              "      <td>...</td>\n",
              "      <td>24912.923230</td>\n",
              "      <td>19561.752830</td>\n",
              "      <td>49134.077460</td>\n",
              "      <td>23466.887240</td>\n",
              "      <td>6684.936444</td>\n",
              "      <td>83976.038140</td>\n",
              "      <td>5681.113413</td>\n",
              "      <td>16540.174520</td>\n",
              "      <td>26777.469810</td>\n",
              "      <td>39033.317830</td>\n",
              "    </tr>\n",
              "    <tr>\n",
              "      <th>2</th>\n",
              "      <td>3638673</td>\n",
              "      <td>7.667548e+06</td>\n",
              "      <td>1.335264e+07</td>\n",
              "      <td>1.898063e+07</td>\n",
              "      <td>22041971.77</td>\n",
              "      <td>5.892001e+06</td>\n",
              "      <td>9.928671e+05</td>\n",
              "      <td>2.514030e+06</td>\n",
              "      <td>2.312663e+07</td>\n",
              "      <td>2.726887e+06</td>\n",
              "      <td>...</td>\n",
              "      <td>1808.905693</td>\n",
              "      <td>1754.348879</td>\n",
              "      <td>2380.075771</td>\n",
              "      <td>2799.921865</td>\n",
              "      <td>2397.215117</td>\n",
              "      <td>3060.009491</td>\n",
              "      <td>2120.585649</td>\n",
              "      <td>2372.546729</td>\n",
              "      <td>2653.544784</td>\n",
              "      <td>1731.706378</td>\n",
              "    </tr>\n",
              "    <tr>\n",
              "      <th>3</th>\n",
              "      <td>2498355</td>\n",
              "      <td>2.452500e+08</td>\n",
              "      <td>6.596359e+07</td>\n",
              "      <td>9.187554e+07</td>\n",
              "      <td>52900587.70</td>\n",
              "      <td>2.163944e+07</td>\n",
              "      <td>5.459262e+07</td>\n",
              "      <td>2.057038e+07</td>\n",
              "      <td>1.404666e+07</td>\n",
              "      <td>6.839765e+06</td>\n",
              "      <td>...</td>\n",
              "      <td>8720.719579</td>\n",
              "      <td>7984.793342</td>\n",
              "      <td>9126.964638</td>\n",
              "      <td>4856.855111</td>\n",
              "      <td>7473.337512</td>\n",
              "      <td>9129.491911</td>\n",
              "      <td>6973.661419</td>\n",
              "      <td>8691.579700</td>\n",
              "      <td>8577.869889</td>\n",
              "      <td>8380.539834</td>\n",
              "    </tr>\n",
              "    <tr>\n",
              "      <th>4</th>\n",
              "      <td>12633950144</td>\n",
              "      <td>2.344230e+07</td>\n",
              "      <td>7.651874e+07</td>\n",
              "      <td>9.061877e+06</td>\n",
              "      <td>88275540.13</td>\n",
              "      <td>2.283532e+06</td>\n",
              "      <td>4.892226e+07</td>\n",
              "      <td>9.276679e+06</td>\n",
              "      <td>5.144914e+07</td>\n",
              "      <td>2.932875e+06</td>\n",
              "      <td>...</td>\n",
              "      <td>73223.639630</td>\n",
              "      <td>18513.552650</td>\n",
              "      <td>34590.849930</td>\n",
              "      <td>26508.658900</td>\n",
              "      <td>71477.055680</td>\n",
              "      <td>13465.560970</td>\n",
              "      <td>91316.783600</td>\n",
              "      <td>35046.101910</td>\n",
              "      <td>31169.952770</td>\n",
              "      <td>40243.379180</td>\n",
              "    </tr>\n",
              "    <tr>\n",
              "      <th>...</th>\n",
              "      <td>...</td>\n",
              "      <td>...</td>\n",
              "      <td>...</td>\n",
              "      <td>...</td>\n",
              "      <td>...</td>\n",
              "      <td>...</td>\n",
              "      <td>...</td>\n",
              "      <td>...</td>\n",
              "      <td>...</td>\n",
              "      <td>...</td>\n",
              "      <td>...</td>\n",
              "      <td>...</td>\n",
              "      <td>...</td>\n",
              "      <td>...</td>\n",
              "      <td>...</td>\n",
              "      <td>...</td>\n",
              "      <td>...</td>\n",
              "      <td>...</td>\n",
              "      <td>...</td>\n",
              "      <td>...</td>\n",
              "      <td>...</td>\n",
              "    </tr>\n",
              "    <tr>\n",
              "      <th>1428</th>\n",
              "      <td>230115</td>\n",
              "      <td>2.658727e+07</td>\n",
              "      <td>2.008053e+08</td>\n",
              "      <td>6.485656e+07</td>\n",
              "      <td>53583334.57</td>\n",
              "      <td>7.993349e+06</td>\n",
              "      <td>4.649832e+07</td>\n",
              "      <td>1.456040e+07</td>\n",
              "      <td>3.830695e+07</td>\n",
              "      <td>3.027184e+07</td>\n",
              "      <td>...</td>\n",
              "      <td>533.228466</td>\n",
              "      <td>664.226145</td>\n",
              "      <td>1012.785569</td>\n",
              "      <td>1227.141176</td>\n",
              "      <td>644.967497</td>\n",
              "      <td>931.464923</td>\n",
              "      <td>481.317277</td>\n",
              "      <td>344.487630</td>\n",
              "      <td>813.793171</td>\n",
              "      <td>824.823032</td>\n",
              "    </tr>\n",
              "    <tr>\n",
              "      <th>1429</th>\n",
              "      <td>43787068</td>\n",
              "      <td>1.189417e+08</td>\n",
              "      <td>1.027792e+08</td>\n",
              "      <td>2.297040e+07</td>\n",
              "      <td>56467480.46</td>\n",
              "      <td>5.331166e+06</td>\n",
              "      <td>9.156309e+07</td>\n",
              "      <td>1.186552e+07</td>\n",
              "      <td>5.494317e+07</td>\n",
              "      <td>8.816054e+06</td>\n",
              "      <td>...</td>\n",
              "      <td>5530.530466</td>\n",
              "      <td>4087.916622</td>\n",
              "      <td>7565.595333</td>\n",
              "      <td>3996.340023</td>\n",
              "      <td>2339.546788</td>\n",
              "      <td>6890.781898</td>\n",
              "      <td>4063.788977</td>\n",
              "      <td>7660.720919</td>\n",
              "      <td>2356.332830</td>\n",
              "      <td>10498.729370</td>\n",
              "    </tr>\n",
              "    <tr>\n",
              "      <th>1430</th>\n",
              "      <td>1920438</td>\n",
              "      <td>4.680251e+07</td>\n",
              "      <td>3.979945e+07</td>\n",
              "      <td>2.050838e+07</td>\n",
              "      <td>19509767.05</td>\n",
              "      <td>2.961714e+06</td>\n",
              "      <td>1.239209e+07</td>\n",
              "      <td>3.078131e+06</td>\n",
              "      <td>6.683750e+06</td>\n",
              "      <td>5.243632e+06</td>\n",
              "      <td>...</td>\n",
              "      <td>1373.543878</td>\n",
              "      <td>10567.028430</td>\n",
              "      <td>9018.496753</td>\n",
              "      <td>8845.084532</td>\n",
              "      <td>5592.151900</td>\n",
              "      <td>4841.477950</td>\n",
              "      <td>10063.064870</td>\n",
              "      <td>3558.198442</td>\n",
              "      <td>11935.343720</td>\n",
              "      <td>8452.489487</td>\n",
              "    </tr>\n",
              "    <tr>\n",
              "      <th>1431</th>\n",
              "      <td>74765199</td>\n",
              "      <td>1.961060e+08</td>\n",
              "      <td>1.069926e+08</td>\n",
              "      <td>1.429322e+07</td>\n",
              "      <td>33945857.30</td>\n",
              "      <td>6.774219e+06</td>\n",
              "      <td>1.097531e+07</td>\n",
              "      <td>2.804238e+06</td>\n",
              "      <td>1.711634e+07</td>\n",
              "      <td>1.848868e+07</td>\n",
              "      <td>...</td>\n",
              "      <td>171.377712</td>\n",
              "      <td>503.120565</td>\n",
              "      <td>1006.387829</td>\n",
              "      <td>693.719941</td>\n",
              "      <td>528.009908</td>\n",
              "      <td>66.748512</td>\n",
              "      <td>965.164054</td>\n",
              "      <td>279.279473</td>\n",
              "      <td>1090.087526</td>\n",
              "      <td>822.759217</td>\n",
              "    </tr>\n",
              "    <tr>\n",
              "      <th>1432</th>\n",
              "      <td>559262022</td>\n",
              "      <td>9.921577e+07</td>\n",
              "      <td>6.465584e+07</td>\n",
              "      <td>2.951880e+07</td>\n",
              "      <td>38937474.21</td>\n",
              "      <td>1.858046e+08</td>\n",
              "      <td>7.324734e+07</td>\n",
              "      <td>2.310503e+07</td>\n",
              "      <td>1.055549e+07</td>\n",
              "      <td>2.761467e+07</td>\n",
              "      <td>...</td>\n",
              "      <td>71234.185560</td>\n",
              "      <td>30830.445040</td>\n",
              "      <td>8887.613073</td>\n",
              "      <td>12479.340220</td>\n",
              "      <td>23250.640280</td>\n",
              "      <td>45485.686510</td>\n",
              "      <td>7711.293574</td>\n",
              "      <td>25946.214500</td>\n",
              "      <td>29700.601530</td>\n",
              "      <td>29282.002610</td>\n",
              "    </tr>\n",
              "  </tbody>\n",
              "</table>\n",
              "<p>1433 rows × 100 columns</p>\n",
              "</div>\n",
              "    <div class=\"colab-df-buttons\">\n",
              "\n",
              "  <div class=\"colab-df-container\">\n",
              "    <button class=\"colab-df-convert\" onclick=\"convertToInteractive('df-3b85fefe-c42d-4ce9-b5ef-381413c46512')\"\n",
              "            title=\"Convert this dataframe to an interactive table.\"\n",
              "            style=\"display:none;\">\n",
              "\n",
              "  <svg xmlns=\"http://www.w3.org/2000/svg\" height=\"24px\" viewBox=\"0 -960 960 960\">\n",
              "    <path d=\"M120-120v-720h720v720H120Zm60-500h600v-160H180v160Zm220 220h160v-160H400v160Zm0 220h160v-160H400v160ZM180-400h160v-160H180v160Zm440 0h160v-160H620v160ZM180-180h160v-160H180v160Zm440 0h160v-160H620v160Z\"/>\n",
              "  </svg>\n",
              "    </button>\n",
              "\n",
              "  <style>\n",
              "    .colab-df-container {\n",
              "      display:flex;\n",
              "      gap: 12px;\n",
              "    }\n",
              "\n",
              "    .colab-df-convert {\n",
              "      background-color: #E8F0FE;\n",
              "      border: none;\n",
              "      border-radius: 50%;\n",
              "      cursor: pointer;\n",
              "      display: none;\n",
              "      fill: #1967D2;\n",
              "      height: 32px;\n",
              "      padding: 0 0 0 0;\n",
              "      width: 32px;\n",
              "    }\n",
              "\n",
              "    .colab-df-convert:hover {\n",
              "      background-color: #E2EBFA;\n",
              "      box-shadow: 0px 1px 2px rgba(60, 64, 67, 0.3), 0px 1px 3px 1px rgba(60, 64, 67, 0.15);\n",
              "      fill: #174EA6;\n",
              "    }\n",
              "\n",
              "    .colab-df-buttons div {\n",
              "      margin-bottom: 4px;\n",
              "    }\n",
              "\n",
              "    [theme=dark] .colab-df-convert {\n",
              "      background-color: #3B4455;\n",
              "      fill: #D2E3FC;\n",
              "    }\n",
              "\n",
              "    [theme=dark] .colab-df-convert:hover {\n",
              "      background-color: #434B5C;\n",
              "      box-shadow: 0px 1px 3px 1px rgba(0, 0, 0, 0.15);\n",
              "      filter: drop-shadow(0px 1px 2px rgba(0, 0, 0, 0.3));\n",
              "      fill: #FFFFFF;\n",
              "    }\n",
              "  </style>\n",
              "\n",
              "    <script>\n",
              "      const buttonEl =\n",
              "        document.querySelector('#df-3b85fefe-c42d-4ce9-b5ef-381413c46512 button.colab-df-convert');\n",
              "      buttonEl.style.display =\n",
              "        google.colab.kernel.accessAllowed ? 'block' : 'none';\n",
              "\n",
              "      async function convertToInteractive(key) {\n",
              "        const element = document.querySelector('#df-3b85fefe-c42d-4ce9-b5ef-381413c46512');\n",
              "        const dataTable =\n",
              "          await google.colab.kernel.invokeFunction('convertToInteractive',\n",
              "                                                    [key], {});\n",
              "        if (!dataTable) return;\n",
              "\n",
              "        const docLinkHtml = 'Like what you see? Visit the ' +\n",
              "          '<a target=\"_blank\" href=https://colab.research.google.com/notebooks/data_table.ipynb>data table notebook</a>'\n",
              "          + ' to learn more about interactive tables.';\n",
              "        element.innerHTML = '';\n",
              "        dataTable['output_type'] = 'display_data';\n",
              "        await google.colab.output.renderOutput(dataTable, element);\n",
              "        const docLink = document.createElement('div');\n",
              "        docLink.innerHTML = docLinkHtml;\n",
              "        element.appendChild(docLink);\n",
              "      }\n",
              "    </script>\n",
              "  </div>\n",
              "\n",
              "\n",
              "<div id=\"df-1aaf419e-16a7-4d67-aa33-13cbaac255d5\">\n",
              "  <button class=\"colab-df-quickchart\" onclick=\"quickchart('df-1aaf419e-16a7-4d67-aa33-13cbaac255d5')\"\n",
              "            title=\"Suggest charts\"\n",
              "            style=\"display:none;\">\n",
              "\n",
              "<svg xmlns=\"http://www.w3.org/2000/svg\" height=\"24px\"viewBox=\"0 0 24 24\"\n",
              "     width=\"24px\">\n",
              "    <g>\n",
              "        <path d=\"M19 3H5c-1.1 0-2 .9-2 2v14c0 1.1.9 2 2 2h14c1.1 0 2-.9 2-2V5c0-1.1-.9-2-2-2zM9 17H7v-7h2v7zm4 0h-2V7h2v10zm4 0h-2v-4h2v4z\"/>\n",
              "    </g>\n",
              "</svg>\n",
              "  </button>\n",
              "\n",
              "<style>\n",
              "  .colab-df-quickchart {\n",
              "      --bg-color: #E8F0FE;\n",
              "      --fill-color: #1967D2;\n",
              "      --hover-bg-color: #E2EBFA;\n",
              "      --hover-fill-color: #174EA6;\n",
              "      --disabled-fill-color: #AAA;\n",
              "      --disabled-bg-color: #DDD;\n",
              "  }\n",
              "\n",
              "  [theme=dark] .colab-df-quickchart {\n",
              "      --bg-color: #3B4455;\n",
              "      --fill-color: #D2E3FC;\n",
              "      --hover-bg-color: #434B5C;\n",
              "      --hover-fill-color: #FFFFFF;\n",
              "      --disabled-bg-color: #3B4455;\n",
              "      --disabled-fill-color: #666;\n",
              "  }\n",
              "\n",
              "  .colab-df-quickchart {\n",
              "    background-color: var(--bg-color);\n",
              "    border: none;\n",
              "    border-radius: 50%;\n",
              "    cursor: pointer;\n",
              "    display: none;\n",
              "    fill: var(--fill-color);\n",
              "    height: 32px;\n",
              "    padding: 0;\n",
              "    width: 32px;\n",
              "  }\n",
              "\n",
              "  .colab-df-quickchart:hover {\n",
              "    background-color: var(--hover-bg-color);\n",
              "    box-shadow: 0 1px 2px rgba(60, 64, 67, 0.3), 0 1px 3px 1px rgba(60, 64, 67, 0.15);\n",
              "    fill: var(--button-hover-fill-color);\n",
              "  }\n",
              "\n",
              "  .colab-df-quickchart-complete:disabled,\n",
              "  .colab-df-quickchart-complete:disabled:hover {\n",
              "    background-color: var(--disabled-bg-color);\n",
              "    fill: var(--disabled-fill-color);\n",
              "    box-shadow: none;\n",
              "  }\n",
              "\n",
              "  .colab-df-spinner {\n",
              "    border: 2px solid var(--fill-color);\n",
              "    border-color: transparent;\n",
              "    border-bottom-color: var(--fill-color);\n",
              "    animation:\n",
              "      spin 1s steps(1) infinite;\n",
              "  }\n",
              "\n",
              "  @keyframes spin {\n",
              "    0% {\n",
              "      border-color: transparent;\n",
              "      border-bottom-color: var(--fill-color);\n",
              "      border-left-color: var(--fill-color);\n",
              "    }\n",
              "    20% {\n",
              "      border-color: transparent;\n",
              "      border-left-color: var(--fill-color);\n",
              "      border-top-color: var(--fill-color);\n",
              "    }\n",
              "    30% {\n",
              "      border-color: transparent;\n",
              "      border-left-color: var(--fill-color);\n",
              "      border-top-color: var(--fill-color);\n",
              "      border-right-color: var(--fill-color);\n",
              "    }\n",
              "    40% {\n",
              "      border-color: transparent;\n",
              "      border-right-color: var(--fill-color);\n",
              "      border-top-color: var(--fill-color);\n",
              "    }\n",
              "    60% {\n",
              "      border-color: transparent;\n",
              "      border-right-color: var(--fill-color);\n",
              "    }\n",
              "    80% {\n",
              "      border-color: transparent;\n",
              "      border-right-color: var(--fill-color);\n",
              "      border-bottom-color: var(--fill-color);\n",
              "    }\n",
              "    90% {\n",
              "      border-color: transparent;\n",
              "      border-bottom-color: var(--fill-color);\n",
              "    }\n",
              "  }\n",
              "</style>\n",
              "\n",
              "  <script>\n",
              "    async function quickchart(key) {\n",
              "      const quickchartButtonEl =\n",
              "        document.querySelector('#' + key + ' button');\n",
              "      quickchartButtonEl.disabled = true;  // To prevent multiple clicks.\n",
              "      quickchartButtonEl.classList.add('colab-df-spinner');\n",
              "      try {\n",
              "        const charts = await google.colab.kernel.invokeFunction(\n",
              "            'suggestCharts', [key], {});\n",
              "      } catch (error) {\n",
              "        console.error('Error during call to suggestCharts:', error);\n",
              "      }\n",
              "      quickchartButtonEl.classList.remove('colab-df-spinner');\n",
              "      quickchartButtonEl.classList.add('colab-df-quickchart-complete');\n",
              "    }\n",
              "    (() => {\n",
              "      let quickchartButtonEl =\n",
              "        document.querySelector('#df-1aaf419e-16a7-4d67-aa33-13cbaac255d5 button');\n",
              "      quickchartButtonEl.style.display =\n",
              "        google.colab.kernel.accessAllowed ? 'block' : 'none';\n",
              "    })();\n",
              "  </script>\n",
              "</div>\n",
              "    </div>\n",
              "  </div>\n"
            ],
            "application/vnd.google.colaboratory.intrinsic+json": {
              "type": "dataframe",
              "variable_name": "X"
            }
          },
          "metadata": {}
        }
      ]
    },
    {
      "cell_type": "code",
      "source": [
        "Xarray = X.values\n",
        "Xarray.shape"
      ],
      "metadata": {
        "colab": {
          "base_uri": "https://localhost:8080/"
        },
        "id": "tIlvupKwAwlM",
        "outputId": "6ccd1611-1fda-4be5-a9b5-0c73bd7fc446"
      },
      "execution_count": 5,
      "outputs": [
        {
          "output_type": "execute_result",
          "data": {
            "text/plain": [
              "(1433, 100)"
            ]
          },
          "metadata": {},
          "execution_count": 5
        }
      ]
    },
    {
      "cell_type": "code",
      "source": [
        "song_maxs = Xarray.max(axis=1).reshape(-1,1)\n",
        "Xnorm = Xarray / song_maxs"
      ],
      "metadata": {
        "id": "il4ANlOKDLJ9"
      },
      "execution_count": 6,
      "outputs": []
    },
    {
      "cell_type": "code",
      "source": [
        "np.allclose(Xnorm[1,:], Xarray[1,:]/Xarray[1].max())"
      ],
      "metadata": {
        "colab": {
          "base_uri": "https://localhost:8080/"
        },
        "id": "8PMmdZP1D6sB",
        "outputId": "1a0994bf-a9b1-46d9-9474-8672ad6377e3"
      },
      "execution_count": 7,
      "outputs": [
        {
          "output_type": "execute_result",
          "data": {
            "text/plain": [
              "True"
            ]
          },
          "metadata": {},
          "execution_count": 7
        }
      ]
    },
    {
      "cell_type": "code",
      "source": [
        "Xnorm.shape"
      ],
      "metadata": {
        "colab": {
          "base_uri": "https://localhost:8080/"
        },
        "id": "5Gce5Z_jDk6n",
        "outputId": "8b9d7f8b-b2b4-4e46-ab24-3f55abfb07dc"
      },
      "execution_count": 8,
      "outputs": [
        {
          "output_type": "execute_result",
          "data": {
            "text/plain": [
              "(1433, 100)"
            ]
          },
          "metadata": {},
          "execution_count": 8
        }
      ]
    },
    {
      "cell_type": "code",
      "source": [
        "codes, uniques = y.factorize()\n",
        "ycodes = codes\n",
        "uniques"
      ],
      "metadata": {
        "colab": {
          "base_uri": "https://localhost:8080/"
        },
        "id": "Rfn5rxHRW1Yt",
        "outputId": "628a9e82-f0f0-41f8-cb0d-2592a2fffc41"
      },
      "execution_count": 9,
      "outputs": [
        {
          "output_type": "execute_result",
          "data": {
            "text/plain": [
              "Index(['jazz_blues', 'rock_pop', 'electronic', 'metal_punk', 'classical',\n",
              "       'world'],\n",
              "      dtype='object')"
            ]
          },
          "metadata": {},
          "execution_count": 9
        }
      ]
    },
    {
      "cell_type": "code",
      "source": [
        "# Generate a random array of numbers from 0 to 1432 (randomly chooses our songs)\n",
        "numbers = np.arange(0, 1432)\n",
        "np.random.shuffle(numbers)\n",
        "print(numbers)"
      ],
      "metadata": {
        "colab": {
          "base_uri": "https://localhost:8080/"
        },
        "id": "-UJ0Ev7CXE7g",
        "outputId": "7687d20f-b263-4432-d8b1-c46d31ef3779"
      },
      "execution_count": 10,
      "outputs": [
        {
          "output_type": "stream",
          "name": "stdout",
          "text": [
            "[ 716  181 1101 ...  528  784  514]\n"
          ]
        }
      ]
    },
    {
      "cell_type": "code",
      "source": [
        "X_new = np.zeros((1200,100))\n",
        "\n",
        "ycodes_new_prior = np.zeros((1200,1))\n",
        "\n",
        "ycodes_new = ycodes_new_prior.flatten()\n",
        "display(X_new.shape)\n",
        "display(Xnorm.shape)\n",
        "\n",
        "count1 = 0\n",
        "count2 = 0\n",
        "count3 = 0\n",
        "count4 = 0\n",
        "count5 = 0\n",
        "count6 = 0\n",
        "count_overall = 0\n",
        "\n",
        "#World\n",
        "for i in range(1432):\n",
        "    if ycodes[numbers[i]] == 5 and count1 < 200: #will get 100 World songs\n",
        "      X_new[count_overall] = Xnorm[numbers[i]]\n",
        "      ycodes_new[count_overall] = ycodes[numbers[i]]\n",
        "      count1 += 1\n",
        "      count_overall += 1\n",
        "#classical\n",
        "for j in range(1432):\n",
        "    if ycodes[numbers[j]] == 4 and count2 < 200:\n",
        "        X_new[count_overall] = Xnorm[numbers[j]]\n",
        "        ycodes_new[count_overall] = ycodes[numbers[j]]\n",
        "        count2 += 1\n",
        "        count_overall += 1\n",
        "#electronic\n",
        "for k in range(1432):\n",
        "    if ycodes[numbers[k]] == 2 and count3 < 200:\n",
        "        X_new[count_overall] = Xnorm[numbers[k]]\n",
        "        ycodes_new[count_overall] = ycodes[numbers[k]]\n",
        "        count3 += 1\n",
        "        count_overall += 1\n",
        "#rock_pop\n",
        "for l in range(1432):\n",
        "    if ycodes[numbers[l]] == 1 and count4 < 200:\n",
        "        X_new[count_overall] = Xnorm[numbers[l]]\n",
        "        ycodes_new[count_overall] = ycodes[numbers[l]]\n",
        "        count4 += 1\n",
        "        count_overall += 1\n",
        "#jazz_blues\n",
        "for l in range(1432):\n",
        "    if ycodes[numbers[l]] == 0 and count5 < 200:\n",
        "        X_new[count_overall] = Xnorm[numbers[l]]\n",
        "        ycodes_new[count_overall] = ycodes[numbers[l]]\n",
        "        count5 += 1\n",
        "        count_overall += 1\n",
        "#metal_punk\n",
        "for l in range(1432):\n",
        "    if ycodes[numbers[l]] == 3 and count6 < 200:\n",
        "        X_new[count_overall] = Xnorm[numbers[l]]\n",
        "        ycodes_new[count_overall] = ycodes[numbers[l]]\n",
        "        count6 += 1\n",
        "        count_overall += 1\n"
      ],
      "metadata": {
        "colab": {
          "base_uri": "https://localhost:8080/",
          "height": 52
        },
        "id": "QpLTLsDnXQCo",
        "outputId": "e3564b6b-ee2d-46c6-b5b0-4e3490e72d52"
      },
      "execution_count": 11,
      "outputs": [
        {
          "output_type": "display_data",
          "data": {
            "text/plain": [
              "(1200, 100)"
            ]
          },
          "metadata": {}
        },
        {
          "output_type": "display_data",
          "data": {
            "text/plain": [
              "(1433, 100)"
            ]
          },
          "metadata": {}
        }
      ]
    },
    {
      "cell_type": "code",
      "source": [
        "#New test train split will have 150 train and 50 test songs for each of 6 genres\n",
        "X_train, X_test, y_train, y_test = train_test_split(X_new, ycodes_new, stratify=ycodes_new, random_state=0)"
      ],
      "metadata": {
        "id": "Gx4ImgPtYAwx"
      },
      "execution_count": 12,
      "outputs": []
    },
    {
      "cell_type": "code",
      "source": [
        "X_train.shape"
      ],
      "metadata": {
        "colab": {
          "base_uri": "https://localhost:8080/"
        },
        "id": "lyWNUrHUa_Oi",
        "outputId": "02bdebd4-0b9c-4626-a610-9c840e940305"
      },
      "execution_count": 13,
      "outputs": [
        {
          "output_type": "execute_result",
          "data": {
            "text/plain": [
              "(900, 100)"
            ]
          },
          "metadata": {},
          "execution_count": 13
        }
      ]
    },
    {
      "cell_type": "code",
      "source": [
        "clf = neural_network.MLPClassifier(hidden_layer_sizes=(5,5),max_iter=10000, random_state=42)\n",
        "clf.fit(X_train,y_train)\n",
        "print(clf.score(X_train,y_train))\n",
        "display(clf.score(X_test, y_test))"
      ],
      "metadata": {
        "colab": {
          "base_uri": "https://localhost:8080/",
          "height": 52
        },
        "id": "LORsUCLUYNaJ",
        "outputId": "fdde7425-c37d-4c0f-b59d-8436dfab5555"
      },
      "execution_count": 44,
      "outputs": [
        {
          "output_type": "stream",
          "name": "stdout",
          "text": [
            "0.5488888888888889\n"
          ]
        },
        {
          "output_type": "display_data",
          "data": {
            "text/plain": [
              "0.36333333333333334"
            ]
          },
          "metadata": {}
        }
      ]
    },
    {
      "cell_type": "code",
      "source": [
        "y_pred = clf.predict(X_test)\n",
        "ConfusionMatrixDisplay.from_predictions(y_test, y_pred, cmap='Blues')\n",
        "plt.show()"
      ],
      "metadata": {
        "colab": {
          "base_uri": "https://localhost:8080/",
          "height": 449
        },
        "id": "mHextTH1Y49v",
        "outputId": "6cfb170f-6e27-4cbf-8912-611e4d41741f"
      },
      "execution_count": 15,
      "outputs": [
        {
          "output_type": "display_data",
          "data": {
            "text/plain": [
              "<Figure size 640x480 with 2 Axes>"
            ],
            "image/png": "[encoded data removed]"
          },
          "metadata": {}
        }
      ]
    },
    {
      "cell_type": "code",
      "source": [
        "clf2 = GaussianNB()\n",
        "clf2.fit(X_train,y_train)\n",
        "display(clf2.score(X_train,y_train))\n",
        "display(clf2.score(X_test,y_test))"
      ],
      "metadata": {
        "colab": {
          "base_uri": "https://localhost:8080/",
          "height": 52
        },
        "id": "Lur6s1sBZMkK",
        "outputId": "5936a5c5-8281-4833-f7b9-1fe9722c292a"
      },
      "execution_count": 16,
      "outputs": [
        {
          "output_type": "display_data",
          "data": {
            "text/plain": [
              "0.3466666666666667"
            ]
          },
          "metadata": {}
        },
        {
          "output_type": "display_data",
          "data": {
            "text/plain": [
              "0.30333333333333334"
            ]
          },
          "metadata": {}
        }
      ]
    },
    {
      "cell_type": "code",
      "source": [
        "clf5 = SVC()\n",
        "clf5.fit(X_train,y_train)\n",
        "display(clf5.score(X_train,y_train))\n",
        "display(clf5.score(X_test,y_test))"
      ],
      "metadata": {
        "colab": {
          "base_uri": "https://localhost:8080/",
          "height": 52
        },
        "id": "LFqrk7soZTor",
        "outputId": "bff638bd-354d-4ee2-d2f4-3dcbfa1bb332"
      },
      "execution_count": 17,
      "outputs": [
        {
          "output_type": "display_data",
          "data": {
            "text/plain": [
              "0.4477777777777778"
            ]
          },
          "metadata": {}
        },
        {
          "output_type": "display_data",
          "data": {
            "text/plain": [
              "0.33"
            ]
          },
          "metadata": {}
        }
      ]
    },
    {
      "cell_type": "code",
      "source": [
        "import tensorflow as tf\n",
        "mnist = tf.keras.datasets.mnist\n",
        "\n",
        "#(X_train, y_train),(X_test, y_test) = mnist.load_data()\n",
        "#X_train, X_test = X_train / 255.0, X_test / 255.0\n",
        "\n",
        "num_features = X_train.shape[1] #100\n",
        "num_classes = 6\n",
        "# Set a seed value\n",
        "seed_value = 12345\n",
        "\n",
        "# Set the seed for the Python random number generator\n",
        "np.random.seed(seed_value)\n",
        "\n",
        "# Set the seed for the TensorFlow backend\n",
        "tf.random.set_seed(seed_value)\n",
        "model = tf.keras.models.Sequential([\n",
        "   #tf.keras.layers.Conv1D(8, 3, activation='relu', input_shape=(num_features, 1)),\n",
        "    #tf.keras.layers.MaxPooling1D(2),\n",
        "    tf.keras.layers.Flatten(),\n",
        "    tf.keras.layers.Dense(128, activation='relu'),\n",
        "    tf.keras.layers.Dense(num_classes, activation='softmax')\n",
        "])\n",
        "\n",
        "model.compile(optimizer='adam',\n",
        "  loss='sparse_categorical_crossentropy',\n",
        "  metrics=['accuracy'])\n",
        "\n",
        "model.fit(X_train, y_train, epochs=60)\n",
        "model.evaluate(X_test, y_test)\n"
      ],
      "metadata": {
        "id": "2J611qIuY9Uj",
        "colab": {
          "base_uri": "https://localhost:8080/"
        },
        "outputId": "ac2a39a5-a374-4291-fe0d-9d0e3d5a6b32"
      },
      "execution_count": 98,
      "outputs": [
        {
          "output_type": "stream",
          "name": "stdout",
          "text": [
            "Epoch 1/60\n",
            "29/29 [==============================] - 1s 3ms/step - loss: 1.7815 - accuracy: 0.1933\n",
            "Epoch 2/60\n",
            "29/29 [==============================] - 0s 4ms/step - loss: 1.7469 - accuracy: 0.2444\n",
            "Epoch 3/60\n",
            "29/29 [==============================] - 0s 4ms/step - loss: 1.7197 - accuracy: 0.2911\n",
            "Epoch 4/60\n",
            "29/29 [==============================] - 0s 2ms/step - loss: 1.6974 - accuracy: 0.3356\n",
            "Epoch 5/60\n",
            "29/29 [==============================] - 0s 2ms/step - loss: 1.6744 - accuracy: 0.3378\n",
            "Epoch 6/60\n",
            "29/29 [==============================] - 0s 2ms/step - loss: 1.6569 - accuracy: 0.3400\n",
            "Epoch 7/60\n",
            "29/29 [==============================] - 0s 2ms/step - loss: 1.6389 - accuracy: 0.3556\n",
            "Epoch 8/60\n",
            "29/29 [==============================] - 0s 3ms/step - loss: 1.6245 - accuracy: 0.3578\n",
            "Epoch 9/60\n",
            "29/29 [==============================] - 0s 2ms/step - loss: 1.6069 - accuracy: 0.3667\n",
            "Epoch 10/60\n",
            "29/29 [==============================] - 0s 2ms/step - loss: 1.5892 - accuracy: 0.3822\n",
            "Epoch 11/60\n",
            "29/29 [==============================] - 0s 2ms/step - loss: 1.5794 - accuracy: 0.3722\n",
            "Epoch 12/60\n",
            "29/29 [==============================] - 0s 2ms/step - loss: 1.5661 - accuracy: 0.3844\n",
            "Epoch 13/60\n",
            "29/29 [==============================] - 0s 2ms/step - loss: 1.5553 - accuracy: 0.3956\n",
            "Epoch 14/60\n",
            "29/29 [==============================] - 0s 2ms/step - loss: 1.5448 - accuracy: 0.4044\n",
            "Epoch 15/60\n",
            "29/29 [==============================] - 0s 2ms/step - loss: 1.5291 - accuracy: 0.4111\n",
            "Epoch 16/60\n",
            "29/29 [==============================] - 0s 2ms/step - loss: 1.5228 - accuracy: 0.4122\n",
            "Epoch 17/60\n",
            "29/29 [==============================] - 0s 3ms/step - loss: 1.5113 - accuracy: 0.4278\n",
            "Epoch 18/60\n",
            "29/29 [==============================] - 0s 2ms/step - loss: 1.5032 - accuracy: 0.4167\n",
            "Epoch 19/60\n",
            "29/29 [==============================] - 0s 2ms/step - loss: 1.4958 - accuracy: 0.4356\n",
            "Epoch 20/60\n",
            "29/29 [==============================] - 0s 2ms/step - loss: 1.4860 - accuracy: 0.4311\n",
            "Epoch 21/60\n",
            "29/29 [==============================] - 0s 2ms/step - loss: 1.4754 - accuracy: 0.4322\n",
            "Epoch 22/60\n",
            "29/29 [==============================] - 0s 2ms/step - loss: 1.4727 - accuracy: 0.4389\n",
            "Epoch 23/60\n",
            "29/29 [==============================] - 0s 3ms/step - loss: 1.4594 - accuracy: 0.4389\n",
            "Epoch 24/60\n",
            "29/29 [==============================] - 0s 2ms/step - loss: 1.4529 - accuracy: 0.4511\n",
            "Epoch 25/60\n",
            "29/29 [==============================] - 0s 2ms/step - loss: 1.4425 - accuracy: 0.4567\n",
            "Epoch 26/60\n",
            "29/29 [==============================] - 0s 2ms/step - loss: 1.4337 - accuracy: 0.4633\n",
            "Epoch 27/60\n",
            "29/29 [==============================] - 0s 2ms/step - loss: 1.4255 - accuracy: 0.4722\n",
            "Epoch 28/60\n",
            "29/29 [==============================] - 0s 2ms/step - loss: 1.4198 - accuracy: 0.4656\n",
            "Epoch 29/60\n",
            "29/29 [==============================] - 0s 2ms/step - loss: 1.4143 - accuracy: 0.4767\n",
            "Epoch 30/60\n",
            "29/29 [==============================] - 0s 2ms/step - loss: 1.4033 - accuracy: 0.4756\n",
            "Epoch 31/60\n",
            "29/29 [==============================] - 0s 2ms/step - loss: 1.3956 - accuracy: 0.4711\n",
            "Epoch 32/60\n",
            "29/29 [==============================] - 0s 2ms/step - loss: 1.3876 - accuracy: 0.4844\n",
            "Epoch 33/60\n",
            "29/29 [==============================] - 0s 2ms/step - loss: 1.3822 - accuracy: 0.4756\n",
            "Epoch 34/60\n",
            "29/29 [==============================] - 0s 2ms/step - loss: 1.3728 - accuracy: 0.4844\n",
            "Epoch 35/60\n",
            "29/29 [==============================] - 0s 2ms/step - loss: 1.3706 - accuracy: 0.4811\n",
            "Epoch 36/60\n",
            "29/29 [==============================] - 0s 2ms/step - loss: 1.3595 - accuracy: 0.4956\n",
            "Epoch 37/60\n",
            "29/29 [==============================] - 0s 3ms/step - loss: 1.3519 - accuracy: 0.4944\n",
            "Epoch 38/60\n",
            "29/29 [==============================] - 0s 2ms/step - loss: 1.3486 - accuracy: 0.4967\n",
            "Epoch 39/60\n",
            "29/29 [==============================] - 0s 2ms/step - loss: 1.3395 - accuracy: 0.5144\n",
            "Epoch 40/60\n",
            "29/29 [==============================] - 0s 2ms/step - loss: 1.3349 - accuracy: 0.4922\n",
            "Epoch 41/60\n",
            "29/29 [==============================] - 0s 2ms/step - loss: 1.3312 - accuracy: 0.5022\n",
            "Epoch 42/60\n",
            "29/29 [==============================] - 0s 2ms/step - loss: 1.3162 - accuracy: 0.5156\n",
            "Epoch 43/60\n",
            "29/29 [==============================] - 0s 2ms/step - loss: 1.3091 - accuracy: 0.5100\n",
            "Epoch 44/60\n",
            "29/29 [==============================] - 0s 2ms/step - loss: 1.3026 - accuracy: 0.5133\n",
            "Epoch 45/60\n",
            "29/29 [==============================] - 0s 2ms/step - loss: 1.3000 - accuracy: 0.5133\n",
            "Epoch 46/60\n",
            "29/29 [==============================] - 0s 2ms/step - loss: 1.2918 - accuracy: 0.5222\n",
            "Epoch 47/60\n",
            "29/29 [==============================] - 0s 2ms/step - loss: 1.2877 - accuracy: 0.5278\n",
            "Epoch 48/60\n",
            "29/29 [==============================] - 0s 2ms/step - loss: 1.2751 - accuracy: 0.5278\n",
            "Epoch 49/60\n",
            "29/29 [==============================] - 0s 2ms/step - loss: 1.2710 - accuracy: 0.5344\n",
            "Epoch 50/60\n",
            "29/29 [==============================] - 0s 2ms/step - loss: 1.2670 - accuracy: 0.5478\n",
            "Epoch 51/60\n",
            "29/29 [==============================] - 0s 2ms/step - loss: 1.2565 - accuracy: 0.5500\n",
            "Epoch 52/60\n",
            "29/29 [==============================] - 0s 3ms/step - loss: 1.2508 - accuracy: 0.5433\n",
            "Epoch 53/60\n",
            "29/29 [==============================] - 0s 2ms/step - loss: 1.2424 - accuracy: 0.5511\n",
            "Epoch 54/60\n",
            "29/29 [==============================] - 0s 2ms/step - loss: 1.2387 - accuracy: 0.5489\n",
            "Epoch 55/60\n",
            "29/29 [==============================] - 0s 2ms/step - loss: 1.2308 - accuracy: 0.5478\n",
            "Epoch 56/60\n",
            "29/29 [==============================] - 0s 2ms/step - loss: 1.2236 - accuracy: 0.5578\n",
            "Epoch 57/60\n",
            "29/29 [==============================] - 0s 2ms/step - loss: 1.2174 - accuracy: 0.5522\n",
            "Epoch 58/60\n",
            "29/29 [==============================] - 0s 2ms/step - loss: 1.2146 - accuracy: 0.5522\n",
            "Epoch 59/60\n",
            "29/29 [==============================] - 0s 2ms/step - loss: 1.2067 - accuracy: 0.5644\n",
            "Epoch 60/60\n",
            "29/29 [==============================] - 0s 2ms/step - loss: 1.2012 - accuracy: 0.5589\n",
            "10/10 [==============================] - 0s 2ms/step - loss: 1.5834 - accuracy: 0.4367\n"
          ]
        },
        {
          "output_type": "execute_result",
          "data": {
            "text/plain": [
              "[1.5834112167358398, 0.43666666746139526]"
            ]
          },
          "metadata": {},
          "execution_count": 98
        }
      ]
    },
    {
      "cell_type": "code",
      "source": [
        "y_pred = model.predict(X_test)\n",
        "y_pred.shape\n",
        "y_pred_final = []\n",
        "print(y_pred)\n",
        "for i in range(300):\n",
        "  max = 0.\n",
        "  index = 0\n",
        "  for j in range(6):\n",
        "    if y_pred[i,j] >= max:\n",
        "      max = y_pred[i,j]\n",
        "      index = j\n",
        "  y_pred_final.append(index)\n",
        "print(y_pred_final)\n",
        "\n",
        "\n",
        "print(\"[jazz_blues, rock_pop, electronic, metal_punk, classical,world]\")\n",
        "ConfusionMatrixDisplay.from_predictions(y_test, y_pred_final, cmap='Blues')\n",
        "plt.show()\n"
      ],
      "metadata": {
        "colab": {
          "base_uri": "https://localhost:8080/",
          "height": 643
        },
        "id": "wG7xh-5JavmB",
        "outputId": "2bd16964-7f7e-4620-bcb5-b18fde5cfaed"
      },
      "execution_count": 99,
      "outputs": [
        {
          "output_type": "stream",
          "name": "stdout",
          "text": [
            "10/10 [==============================] - 0s 2ms/step\n",
            "[[0.11748074 0.3183906  0.15309066 0.15716691 0.04093507 0.21293607]\n",
            " [0.25368178 0.15183182 0.12186812 0.06159348 0.10091315 0.31011155]\n",
            " [0.02792971 0.09201109 0.8177584  0.03052715 0.0056201  0.02615355]\n",
            " ...\n",
            " [0.11128831 0.16601866 0.2453718  0.08439951 0.1004949  0.29242685]\n",
            " [0.4217295  0.11682875 0.06664201 0.23684672 0.00721425 0.15073879]\n",
            " [0.31305715 0.16565374 0.31692547 0.06697705 0.01930094 0.1180857 ]]\n",
            "[1, 5, 2, 4, 3, 2, 0, 1, 5, 0, 4, 1, 0, 5, 0, 0, 5, 0, 1, 4, 4, 1, 4, 5, 2, 2, 4, 4, 1, 3, 4, 1, 1, 3, 1, 4, 2, 4, 1, 5, 0, 4, 4, 4, 1, 3, 4, 0, 4, 4, 3, 0, 4, 0, 0, 3, 3, 2, 1, 2, 0, 2, 0, 3, 0, 1, 4, 1, 5, 4, 2, 3, 0, 4, 3, 5, 2, 0, 3, 0, 3, 1, 3, 2, 4, 4, 4, 2, 4, 0, 4, 4, 3, 0, 3, 4, 3, 0, 4, 2, 5, 1, 0, 2, 2, 4, 3, 2, 0, 0, 3, 3, 1, 1, 3, 4, 1, 2, 0, 5, 0, 0, 2, 3, 4, 5, 5, 0, 3, 1, 3, 5, 3, 3, 5, 4, 2, 2, 3, 3, 2, 5, 1, 2, 4, 2, 2, 3, 4, 5, 5, 2, 0, 0, 3, 2, 4, 4, 3, 5, 2, 4, 1, 4, 2, 2, 3, 0, 4, 4, 3, 4, 2, 1, 3, 1, 1, 4, 0, 4, 2, 5, 2, 0, 5, 4, 2, 3, 4, 2, 1, 4, 0, 0, 3, 1, 1, 0, 4, 4, 4, 3, 4, 0, 4, 2, 5, 4, 0, 2, 1, 2, 2, 4, 0, 1, 5, 0, 4, 1, 4, 2, 4, 4, 1, 4, 1, 2, 4, 2, 0, 2, 4, 1, 0, 2, 1, 3, 1, 4, 4, 3, 4, 2, 4, 3, 4, 2, 1, 5, 0, 3, 3, 5, 3, 2, 4, 1, 3, 5, 3, 3, 1, 4, 1, 5, 5, 0, 5, 0, 4, 5, 1, 4, 2, 0, 1, 4, 2, 2, 4, 3, 4, 4, 1, 5, 4, 3, 1, 3, 5, 3, 0, 4, 0, 3, 4, 5, 0, 2]\n",
            "[jazz_blues, rock_pop, electronic, metal_punk, classical,world]\n"
          ]
        },
        {
          "output_type": "display_data",
          "data": {
            "text/plain": [
              "<Figure size 640x480 with 2 Axes>"
            ],
            "image/png": "[encoded data removed]"
          },
          "metadata": {}
        }
      ]
    },
    {
      "cell_type": "code",
      "source": [],
      "metadata": {
        "id": "DkLiSlDUeBTk"
      },
      "execution_count": 19,
      "outputs": []
    }
  ]
}
